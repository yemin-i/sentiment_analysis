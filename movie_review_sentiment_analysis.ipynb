{
 "cells": [
  {
   "cell_type": "markdown",
   "metadata": {
    "toc": true
   },
   "source": [
    "<h1>Contents<span class=\"tocSkip\"></span></h1>\n",
    "<div class=\"toc\"><ul class=\"toc-item\"><li><span><a href=\"#영화(테넷)-리뷰-감성분석\" data-toc-modified-id=\"영화(테넷)-리뷰-감성분석-1\"><center>영화(테넷) 리뷰 감성분석</center></a></span></li><li><span><a href=\"#프로젝트-개요\" data-toc-modified-id=\"프로젝트-개요-2\">프로젝트 개요</a></span></li><li><span><a href=\"#데이터-수집\" data-toc-modified-id=\"데이터-수집-3\">데이터 수집</a></span></li><li><span><a href=\"#개발-환경\" data-toc-modified-id=\"개발-환경-4\">개발 환경</a></span></li><li><span><a href=\"#1.-라이브러리\" data-toc-modified-id=\"1.-라이브러리-5\">1. 라이브러리</a></span></li><li><span><a href=\"#2.-데이터\" data-toc-modified-id=\"2.-데이터-6\">2. 데이터</a></span></li><li><span><a href=\"#3.-전처리\" data-toc-modified-id=\"3.-전처리-7\">3. 전처리</a></span><ul class=\"toc-item\"><li><span><a href=\"#3.1-중복-내용-제거\" data-toc-modified-id=\"3.1-중복-내용-제거-7.1\">3.1 중복 내용 제거</a></span></li><li><span><a href=\"#3.2-결측치-확인\" data-toc-modified-id=\"3.2-결측치-확인-7.2\">3.2 결측치 확인</a></span></li><li><span><a href=\"#3.3-소문자-변환\" data-toc-modified-id=\"3.3-소문자-변환-7.3\">3.3 소문자 변환</a></span></li><li><span><a href=\"#3.4-개행문자-제거\" data-toc-modified-id=\"3.4-개행문자-제거-7.4\">3.4 개행문자 제거</a></span></li><li><span><a href=\"#3.5-한글-추출\" data-toc-modified-id=\"3.5-한글-추출-7.5\">3.5 한글 추출</a></span></li></ul></li><li><span><a href=\"#4.-자연어-처리\" data-toc-modified-id=\"4.-자연어-처리-8\">4. 자연어 처리</a></span><ul class=\"toc-item\"><li><span><a href=\"#4.1-품사-추출\" data-toc-modified-id=\"4.1-품사-추출-8.1\">4.1 품사 추출</a></span></li><li><span><a href=\"#4.2-형태소-분석\" data-toc-modified-id=\"4.2-형태소-분석-8.2\">4.2 형태소 분석</a></span></li><li><span><a href=\"#4.3-명사-추출\" data-toc-modified-id=\"4.3-명사-추출-8.3\">4.3 명사 추출</a></span></li><li><span><a href=\"#4.4-TF-IDF\" data-toc-modified-id=\"4.4-TF-IDF-8.4\">4.4 TF-IDF</a></span></li></ul></li><li><span><a href=\"#5.-감성-분석-모델\" data-toc-modified-id=\"5.-감성-분석-모델-9\">5. 감성 분석 모델</a></span><ul class=\"toc-item\"><li><span><a href=\"#5.1-토큰화\" data-toc-modified-id=\"5.1-토큰화-9.1\">5.1 토큰화</a></span><ul class=\"toc-item\"><li><span><a href=\"#5.1.1-X_train-토큰화\" data-toc-modified-id=\"5.1.1-X_train-토큰화-9.1.1\">5.1.1 X_train 토큰화</a></span></li><li><span><a href=\"#5.1.2-X_test-토큰화\" data-toc-modified-id=\"5.1.2-X_test-토큰화-9.1.2\">5.1.2 X_test 토큰화</a></span></li></ul></li><li><span><a href=\"#5.2-정수-인코딩\" data-toc-modified-id=\"5.2-정수-인코딩-9.2\">5.2 정수 인코딩</a></span></li><li><span><a href=\"#5.3-패딩\" data-toc-modified-id=\"5.3-패딩-9.3\">5.3 패딩</a></span></li></ul></li><li><span><a href=\"#6.-LSTM-기반-감성분석\" data-toc-modified-id=\"6.-LSTM-기반-감성분석-10\">6. LSTM 기반 감성분석</a></span></li><li><span><a href=\"#7.-리뷰-예측\" data-toc-modified-id=\"7.-리뷰-예측-11\">7. 리뷰 예측</a></span></li></ul></div>"
   ]
  },
  {
   "cell_type": "markdown",
   "metadata": {},
   "source": [
    "# <center>영화(테넷) 리뷰 감성분석</center>\n",
    "\n",
    "* 분석자 : 이재성"
   ]
  },
  {
   "cell_type": "markdown",
   "metadata": {},
   "source": [
    "# 프로젝트 개요"
   ]
  },
  {
   "cell_type": "markdown",
   "metadata": {},
   "source": [
    "2020년 9월 29일 기준, 가장 인기있는 영화인 '테넷'의 리뷰를 바탕으로 감성분석을 실시하고자 합니다. "
   ]
  },
  {
   "cell_type": "markdown",
   "metadata": {},
   "source": [
    "# 데이터 수집"
   ]
  },
  {
   "cell_type": "markdown",
   "metadata": {},
   "source": [
    "* 데이터 : 네이버 영화 페이지 내 '테넷' 리뷰 데이터 3000개 (크롤링 활용)\n",
    "    \n",
    "    \n",
    "* 수집일 : 2020년 9월 29일"
   ]
  },
  {
   "cell_type": "markdown",
   "metadata": {},
   "source": [
    "# 개발 환경"
   ]
  },
  {
   "cell_type": "markdown",
   "metadata": {},
   "source": [
    "pandas == 1.0.5\n",
    "\n",
    "numpy == 1.18.5\n",
    "\n",
    "matplotlib == 3.2.2\n",
    "\n",
    "seaborn == 0.10.1\n",
    "\n",
    "eunjeon == 0.4.0\n",
    "\n",
    "re == 2.2.1\n",
    "\n",
    "sklearn == 0.23.1\n",
    "\n",
    "tensorflow == 2.3.0\n",
    "\n",
    "keras == 2.4.3"
   ]
  },
  {
   "cell_type": "markdown",
   "metadata": {},
   "source": [
    "# 1. 라이브러리"
   ]
  },
  {
   "cell_type": "code",
   "execution_count": 1,
   "metadata": {},
   "outputs": [],
   "source": [
    "import pandas as pd\n",
    "import numpy as np\n",
    "from eunjeon import Mecab\n",
    "import matplotlib.pyplot as plt\n",
    "import seaborn as sns\n",
    "from collections import Counter"
   ]
  },
  {
   "cell_type": "markdown",
   "metadata": {},
   "source": [
    "# 2. 데이터"
   ]
  },
  {
   "cell_type": "code",
   "execution_count": 2,
   "metadata": {},
   "outputs": [
    {
     "name": "stdout",
     "output_type": "stream",
     "text": [
      "(8818, 3)\n"
     ]
    },
    {
     "data": {
      "text/html": [
       "<div>\n",
       "<style scoped>\n",
       "    .dataframe tbody tr th:only-of-type {\n",
       "        vertical-align: middle;\n",
       "    }\n",
       "\n",
       "    .dataframe tbody tr th {\n",
       "        vertical-align: top;\n",
       "    }\n",
       "\n",
       "    .dataframe thead th {\n",
       "        text-align: right;\n",
       "    }\n",
       "</style>\n",
       "<table border=\"1\" class=\"dataframe\">\n",
       "  <thead>\n",
       "    <tr style=\"text-align: right;\">\n",
       "      <th></th>\n",
       "      <th>title</th>\n",
       "      <th>score</th>\n",
       "      <th>text</th>\n",
       "    </tr>\n",
       "  </thead>\n",
       "  <tbody>\n",
       "    <tr>\n",
       "      <th>0</th>\n",
       "      <td>테넷</td>\n",
       "      <td>8</td>\n",
       "      <td>'놀란감독 다운 영화입니다'</td>\n",
       "    </tr>\n",
       "    <tr>\n",
       "      <th>1</th>\n",
       "      <td>테넷</td>\n",
       "      <td>9</td>\n",
       "      <td>'나만 그런줄 알았드니 역시 놀란 영화두번 봐야됨 ㅋ'</td>\n",
       "    </tr>\n",
       "    <tr>\n",
       "      <th>2</th>\n",
       "      <td>테넷</td>\n",
       "      <td>9</td>\n",
       "      <td>'초반은 누구나 재밌게볼수있지만</td>\n",
       "    </tr>\n",
       "    <tr>\n",
       "      <th>3</th>\n",
       "      <td>테넷</td>\n",
       "      <td>6</td>\n",
       "      <td>'아니 그래서 복권은 언제 사는데'</td>\n",
       "    </tr>\n",
       "    <tr>\n",
       "      <th>4</th>\n",
       "      <td>테넷</td>\n",
       "      <td>10</td>\n",
       "      <td>'과거의 내가 미래의 나를 위로하는 느낌'</td>\n",
       "    </tr>\n",
       "    <tr>\n",
       "      <th>5</th>\n",
       "      <td>테넷</td>\n",
       "      <td>10</td>\n",
       "      <td>'진짜 액션씬만 봐도 후회없음 물론 스토리도 매우 좋음'</td>\n",
       "    </tr>\n",
       "    <tr>\n",
       "      <th>6</th>\n",
       "      <td>테넷</td>\n",
       "      <td>10</td>\n",
       "      <td>'놀란 작품중 최고 좋았다. 워낙 난해하다는 평을 들어서 그닥 이해하려 노력안해서인지</td>\n",
       "    </tr>\n",
       "    <tr>\n",
       "      <th>7</th>\n",
       "      <td>테넷</td>\n",
       "      <td>8</td>\n",
       "      <td>'한 번에 이해할 수 없지만 이해하면 이해할 수록 스토리가 대단한 영화'</td>\n",
       "    </tr>\n",
       "    <tr>\n",
       "      <th>8</th>\n",
       "      <td>테넷</td>\n",
       "      <td>10</td>\n",
       "      <td>'감독 혼자만 이해하는 영화'</td>\n",
       "    </tr>\n",
       "    <tr>\n",
       "      <th>9</th>\n",
       "      <td>테넷</td>\n",
       "      <td>10</td>\n",
       "      <td>'뭔 내용인지 모르겠지만 재미있게 봄'</td>\n",
       "    </tr>\n",
       "  </tbody>\n",
       "</table>\n",
       "</div>"
      ],
      "text/plain": [
       "  title  score                                              text\n",
       "0    테넷      8                                   '놀란감독 다운 영화입니다'\n",
       "1    테넷      9                    '나만 그런줄 알았드니 역시 놀란 영화두번 봐야됨 ㅋ'\n",
       "2    테넷      9                                 '초반은 누구나 재밌게볼수있지만\n",
       "3    테넷      6                               '아니 그래서 복권은 언제 사는데'\n",
       "4    테넷     10                           '과거의 내가 미래의 나를 위로하는 느낌'\n",
       "5    테넷     10                   '진짜 액션씬만 봐도 후회없음 물론 스토리도 매우 좋음'\n",
       "6    테넷     10   '놀란 작품중 최고 좋았다. 워낙 난해하다는 평을 들어서 그닥 이해하려 노력안해서인지\n",
       "7    테넷      8          '한 번에 이해할 수 없지만 이해하면 이해할 수록 스토리가 대단한 영화'\n",
       "8    테넷     10                                  '감독 혼자만 이해하는 영화'\n",
       "9    테넷     10                             '뭔 내용인지 모르겠지만 재미있게 봄'"
      ]
     },
     "execution_count": 2,
     "metadata": {},
     "output_type": "execute_result"
    }
   ],
   "source": [
    "movie_data = pd.read_csv('tenet_review.csv')\n",
    "\n",
    "print(movie_data.shape)\n",
    "movie_data.head(10)"
   ]
  },
  {
   "cell_type": "markdown",
   "metadata": {},
   "source": [
    "# 3. 전처리"
   ]
  },
  {
   "cell_type": "markdown",
   "metadata": {},
   "source": [
    "## 3.1 중복 내용 제거"
   ]
  },
  {
   "cell_type": "code",
   "execution_count": 3,
   "metadata": {},
   "outputs": [
    {
     "name": "stdout",
     "output_type": "stream",
     "text": [
      "원본 포스팅 글 수 : (8818, 3)\n",
      "중복 제거 후 포스팅 글 수 : (8216, 3)\n"
     ]
    }
   ],
   "source": [
    "print('원본 포스팅 글 수 :',movie_data.shape)\n",
    "\n",
    "movie_data.drop_duplicates(['text'], keep = 'last', inplace = True)\n",
    "\n",
    "print('중복 제거 후 포스팅 글 수 :', movie_data.shape)"
   ]
  },
  {
   "cell_type": "markdown",
   "metadata": {},
   "source": [
    "## 3.2 결측치 확인"
   ]
  },
  {
   "cell_type": "code",
   "execution_count": 4,
   "metadata": {
    "scrolled": false
   },
   "outputs": [
    {
     "data": {
      "text/plain": [
       "title    0\n",
       "score    0\n",
       "text     0\n",
       "dtype: int64"
      ]
     },
     "execution_count": 4,
     "metadata": {},
     "output_type": "execute_result"
    }
   ],
   "source": [
    "movie_data.isnull().sum()"
   ]
  },
  {
   "cell_type": "markdown",
   "metadata": {},
   "source": [
    "**결측치는 없는 것으로 나타났습니다. 그렇지만, Null 값이 없지만, 빈 값(empy) 유무도 확인해야 합니다. 모든 빈 값을 Null 값으로 변환하고, 다시 Null 값이 있는지 확인합니다.**"
   ]
  },
  {
   "cell_type": "code",
   "execution_count": 5,
   "metadata": {},
   "outputs": [
    {
     "data": {
      "text/plain": [
       "title    0\n",
       "score    0\n",
       "text     0\n",
       "dtype: int64"
      ]
     },
     "execution_count": 5,
     "metadata": {},
     "output_type": "execute_result"
    }
   ],
   "source": [
    "movie_data['text'].replace('', np.NaN)\n",
    "\n",
    "movie_data.isnull().sum()"
   ]
  },
  {
   "cell_type": "markdown",
   "metadata": {},
   "source": [
    "**여전히 결측치가 없는 것으로 확인되었습니다. 마지막으로 단어 길이가 짧은 텍스트를 제거하겠습니다.**"
   ]
  },
  {
   "cell_type": "code",
   "execution_count": 6,
   "metadata": {
    "scrolled": true
   },
   "outputs": [
    {
     "name": "stdout",
     "output_type": "stream",
     "text": [
      " '하\n",
      " '응\n",
      " '닐\n",
      " '아\n",
      " '와\n",
      " '\n",
      " '어\n",
      " ''\n"
     ]
    }
   ],
   "source": [
    "# 텍스트 길이가 3 이하인 데이터를 출력하겠습니다.\n",
    "for i in movie_data['text']:\n",
    "    if len(i) <= 3:\n",
    "        print(i)"
   ]
  },
  {
   "cell_type": "markdown",
   "metadata": {},
   "source": [
    "**이 경우는 의미가 없는 케이스이므로 제거하겠습니다.**"
   ]
  },
  {
   "cell_type": "code",
   "execution_count": 7,
   "metadata": {},
   "outputs": [
    {
     "data": {
      "text/plain": [
       "[\" '놀란감독 다운 영화입니다'\",\n",
       " \" '나만 그런줄 알았드니 역시 놀란 영화두번 봐야됨 ㅋ'\",\n",
       " \" '초반은 누구나 재밌게볼수있지만\",\n",
       " \" '아니 그래서 복권은 언제 사는데'\",\n",
       " \" '과거의 내가 미래의 나를 위로하는 느낌'\",\n",
       " \" '진짜 액션씬만 봐도 후회없음 물론 스토리도 매우 좋음'\",\n",
       " \" '놀란 작품중 최고 좋았다. 워낙 난해하다는 평을 들어서 그닥 이해하려 노력안해서인지\",\n",
       " \" '한 번에 이해할 수 없지만 이해하면 이해할 수록 스토리가 대단한 영화'\",\n",
       " \" '감독 혼자만 이해하는 영화'\",\n",
       " \" '뭔 내용인지 모르겠지만 재미있게 봄'\"]"
      ]
     },
     "execution_count": 7,
     "metadata": {},
     "output_type": "execute_result"
    }
   ],
   "source": [
    "short_list = []\n",
    "for i in movie_data['text']:\n",
    "    if len(i) > 3:\n",
    "        short_list.append(i)\n",
    "        \n",
    "short_list[:10]"
   ]
  },
  {
   "cell_type": "code",
   "execution_count": 8,
   "metadata": {},
   "outputs": [],
   "source": [
    "movie_data = movie_data[movie_data['text'].isin(short_list)]\n",
    "\n",
    "for i in movie_data['text']:\n",
    "    if len(i) <= 3:\n",
    "        print(i)"
   ]
  },
  {
   "cell_type": "markdown",
   "metadata": {},
   "source": [
    "**다시 한 번, 길이가 3이하인 데이터를 출력하니 아무 것도 출력되지 않은 것으로 보아 성공적으로 제거됨을 확인하였습니다.**"
   ]
  },
  {
   "cell_type": "markdown",
   "metadata": {},
   "source": [
    "## 3.3 소문자 변환"
   ]
  },
  {
   "cell_type": "code",
   "execution_count": 9,
   "metadata": {},
   "outputs": [],
   "source": [
    "movie_data['text'] = movie_data['text'].str.lower()"
   ]
  },
  {
   "cell_type": "markdown",
   "metadata": {},
   "source": [
    "## 3.4 개행문자 제거"
   ]
  },
  {
   "cell_type": "code",
   "execution_count": 10,
   "metadata": {},
   "outputs": [
    {
     "data": {
      "text/plain": [
       "0                                     '놀란감독 다운 영화입니다'\n",
       "1                      '나만 그런줄 알았드니 역시 놀란 영화두번 봐야됨 ㅋ'\n",
       "2                                   '초반은 누구나 재밌게볼수있지만\n",
       "3                                 '아니 그래서 복권은 언제 사는데'\n",
       "4                             '과거의 내가 미래의 나를 위로하는 느낌'\n",
       "5                     '진짜 액션씬만 봐도 후회없음 물론 스토리도 매우 좋음'\n",
       "6     '놀란 작품중 최고 좋았다. 워낙 난해하다는 평을 들어서 그닥 이해하려 노력안해서인지\n",
       "7            '한 번에 이해할 수 없지만 이해하면 이해할 수록 스토리가 대단한 영화'\n",
       "8                                    '감독 혼자만 이해하는 영화'\n",
       "9                               '뭔 내용인지 모르겠지만 재미있게 봄'\n",
       "Name: text, dtype: object"
      ]
     },
     "execution_count": 10,
     "metadata": {},
     "output_type": "execute_result"
    }
   ],
   "source": [
    "movie_data['text'] = movie_data['text'].replace('\\n','')\n",
    "\n",
    "movie_data['text'].head(10)"
   ]
  },
  {
   "cell_type": "markdown",
   "metadata": {},
   "source": [
    "## 3.5 한글 추출"
   ]
  },
  {
   "cell_type": "code",
   "execution_count": 11,
   "metadata": {},
   "outputs": [
    {
     "name": "stdout",
     "output_type": "stream",
     "text": [
      "데이터 수 : 8208\n"
     ]
    },
    {
     "data": {
      "text/plain": [
       "(0                                     '놀란감독 다운 영화입니다'\n",
       " 1                      '나만 그런줄 알았드니 역시 놀란 영화두번 봐야됨 ㅋ'\n",
       " 2                                   '초반은 누구나 재밌게볼수있지만\n",
       " 3                                 '아니 그래서 복권은 언제 사는데'\n",
       " 4                             '과거의 내가 미래의 나를 위로하는 느낌'\n",
       " 5                     '진짜 액션씬만 봐도 후회없음 물론 스토리도 매우 좋음'\n",
       " 6     '놀란 작품중 최고 좋았다. 워낙 난해하다는 평을 들어서 그닥 이해하려 노력안해서인지\n",
       " 7            '한 번에 이해할 수 없지만 이해하면 이해할 수록 스토리가 대단한 영화'\n",
       " 8                                    '감독 혼자만 이해하는 영화'\n",
       " 9                               '뭔 내용인지 모르겠지만 재미있게 봄'\n",
       " Name: text, dtype: object,\n",
       " 0                                     놀란감독 다운 영화입니다\n",
       " 1                      나만 그런줄 알았드니 역시 놀란 영화두번 봐야됨 ㅋ\n",
       " 2                                  초반은 누구나 재밌게볼수있지만\n",
       " 3                                 아니 그래서 복권은 언제 사는데\n",
       " 4                             과거의 내가 미래의 나를 위로하는 느낌\n",
       " 5                     진짜 액션씬만 봐도 후회없음 물론 스토리도 매우 좋음\n",
       " 6     놀란 작품중 최고 좋았다 워낙 난해하다는 평을 들어서 그닥 이해하려 노력안해서인지\n",
       " 7            한 번에 이해할 수 없지만 이해하면 이해할 수록 스토리가 대단한 영화\n",
       " 8                                    감독 혼자만 이해하는 영화\n",
       " 9                               뭔 내용인지 모르겠지만 재미있게 봄\n",
       " Name: new_text, dtype: object)"
      ]
     },
     "execution_count": 11,
     "metadata": {},
     "output_type": "execute_result"
    }
   ],
   "source": [
    "movie_data['new_text'] = movie_data['text'].str.replace(\"[^ㄱ-ㅎㅏ-ㅣ가-힣 ]\",\"\")\n",
    "\n",
    "print('데이터 수 :', len(movie_data['new_text']))\n",
    "movie_data['text'].head(10), movie_data['new_text'].head(10)"
   ]
  },
  {
   "cell_type": "code",
   "execution_count": 12,
   "metadata": {
    "scrolled": true
   },
   "outputs": [
    {
     "data": {
      "text/plain": [
       "<matplotlib.axes._subplots.AxesSubplot at 0x2018d676220>"
      ]
     },
     "execution_count": 12,
     "metadata": {},
     "output_type": "execute_result"
    },
    {
     "data": {
      "image/png": "[encoded data removed]",
      "text/plain": [
       "<Figure size 432x288 with 1 Axes>"
      ]
     },
     "metadata": {
      "needs_background": "light"
     },
     "output_type": "display_data"
    }
   ],
   "source": [
    "sns.countplot(data = movie_data, x = 'score')"
   ]
  },
  {
   "cell_type": "markdown",
   "metadata": {},
   "source": [
    "**전처리가 끝난 데이터의 평점을 살펴 본 결과, 10점이 대다수인 것으로 나타났습니다.**"
   ]
  },
  {
   "cell_type": "markdown",
   "metadata": {},
   "source": [
    "# 4. 자연어 처리"
   ]
  },
  {
   "cell_type": "markdown",
   "metadata": {},
   "source": [
    "* 형태소 처리기 Mecab() 을 불러오겠습니다."
   ]
  },
  {
   "cell_type": "code",
   "execution_count": 13,
   "metadata": {},
   "outputs": [],
   "source": [
    "mecab = Mecab()"
   ]
  },
  {
   "cell_type": "markdown",
   "metadata": {},
   "source": [
    "## 4.1 품사 추출"
   ]
  },
  {
   "cell_type": "code",
   "execution_count": 14,
   "metadata": {},
   "outputs": [
    {
     "data": {
      "text/plain": [
       "[[('놀란', 'VV+ETM'),\n",
       "  ('감독', 'NNG'),\n",
       "  ('다운', 'XSA+ETM'),\n",
       "  ('영화', 'NNG'),\n",
       "  ('입니다', 'VCP+EC')],\n",
       " [('나', 'NP'),\n",
       "  ('만', 'JX'),\n",
       "  ('그런', 'VA+ETM'),\n",
       "  ('줄', 'NNB'),\n",
       "  ('알', 'VV'),\n",
       "  ('았', 'EP'),\n",
       "  ('드니', 'EC'),\n",
       "  ('역시', 'MAJ'),\n",
       "  ('놀란', 'VV+ETM'),\n",
       "  ('영화', 'NNG'),\n",
       "  ('두', 'MM'),\n",
       "  ('번', 'NNBC'),\n",
       "  ('봐야', 'VV+EC'),\n",
       "  ('됨', 'VV+ETN'),\n",
       "  ('ㅋ', 'IC')],\n",
       " [('초반', 'NNG'),\n",
       "  ('은', 'JX'),\n",
       "  ('누구', 'NP'),\n",
       "  ('나', 'JX'),\n",
       "  ('재밌', 'VA'),\n",
       "  ('게', 'EC'),\n",
       "  ('볼', 'VX+ETM'),\n",
       "  ('수', 'NNB'),\n",
       "  ('있', 'VV'),\n",
       "  ('지만', 'EC')]]"
      ]
     },
     "execution_count": 14,
     "metadata": {},
     "output_type": "execute_result"
    }
   ],
   "source": [
    "data_pos = []\n",
    "for sentence in movie_data['new_text']:\n",
    "    data_pos.append(mecab.pos(sentence))\n",
    "data_pos[:3]"
   ]
  },
  {
   "cell_type": "markdown",
   "metadata": {},
   "source": [
    "## 4.2 형태소 분석"
   ]
  },
  {
   "cell_type": "code",
   "execution_count": 15,
   "metadata": {},
   "outputs": [
    {
     "data": {
      "text/plain": [
       "['놀란', '감독', '다운', '영화', '입니다', '나', '만', '그런', '줄', '알']"
      ]
     },
     "execution_count": 15,
     "metadata": {},
     "output_type": "execute_result"
    }
   ],
   "source": [
    "tokenized_data = []\n",
    "for sentence in movie_data['new_text']:\n",
    "    for text in mecab.morphs(sentence):\n",
    "        tokenized_data.append(text)\n",
    "tokenized_data[:10]"
   ]
  },
  {
   "cell_type": "markdown",
   "metadata": {},
   "source": [
    "* 상위 빈도 순으로 100개의 단어는 다음과 같습니다."
   ]
  },
  {
   "cell_type": "code",
   "execution_count": 16,
   "metadata": {},
   "outputs": [
    {
     "data": {
      "text/plain": [
       "[('는', 5688),\n",
       " ('이', 5314),\n",
       " ('하', 4750),\n",
       " ('영화', 4550),\n",
       " ('고', 4247),\n",
       " ('다', 3582),\n",
       " ('가', 3000),\n",
       " ('이해', 2828),\n",
       " ('은', 2762),\n",
       " ('보', 2709)]"
      ]
     },
     "execution_count": 16,
     "metadata": {},
     "output_type": "execute_result"
    }
   ],
   "source": [
    "# 상위 빈도 100개 단어\n",
    "\n",
    "top_words = Counter(tokenized_data)\n",
    "\n",
    "top_words.most_common(100)[:10]"
   ]
  },
  {
   "cell_type": "markdown",
   "metadata": {},
   "source": [
    "## 4.3 명사 추출"
   ]
  },
  {
   "cell_type": "code",
   "execution_count": 17,
   "metadata": {},
   "outputs": [
    {
     "data": {
      "text/plain": [
       "['감독', '영화', '나', '줄', '영화', '번', '초반', '누구', '수', '복권']"
      ]
     },
     "execution_count": 17,
     "metadata": {},
     "output_type": "execute_result"
    }
   ],
   "source": [
    "nouns = []\n",
    "for sentence in movie_data['new_text']:\n",
    "    for noun in mecab.nouns(sentence):\n",
    "        nouns.append(noun)\n",
    "\n",
    "nouns[:10]"
   ]
  },
  {
   "cell_type": "code",
   "execution_count": 18,
   "metadata": {
    "scrolled": true
   },
   "outputs": [
    {
     "data": {
      "text/plain": [
       "[('영화', 4550),\n",
       " ('이해', 2828),\n",
       " ('감독', 1139),\n",
       " ('생각', 751),\n",
       " ('시간', 735),\n",
       " ('내용', 694),\n",
       " ('스토리', 538),\n",
       " ('놀란', 473),\n",
       " ('사람', 462),\n",
       " ('액션', 430)]"
      ]
     },
     "execution_count": 18,
     "metadata": {},
     "output_type": "execute_result"
    }
   ],
   "source": [
    "# 상위 빈도 100개 명사\n",
    "\n",
    "stop_words = '졸ㄹ ㅋㅋ 까지 다는 너무 네요 해서 아니 지만 재밌 는데 에서 였습니다 면서 그냥 으로 진짜 물론 워낙 수록 인지 용아 습니다 \\\n",
    "다시 입니다 ㅜ긴장감의 스러운 해도 졸라 근데 ㅜㅠ 나오 위한 세요 스러운 느꼈 겨를 드니 그래서 봐야 봐도 어서 하나 다기 안감 \\\n",
    "원다이해갖될듯 몰라도 아위 돌이 던데 이기 다면 볼지 해져서 단지 라고 이랑 대체 장리 솔직히 려고 여서 아닌 이거 다가 으면 해놨 언제 \\\n",
    "이게 이걸 이건 뭔가'\n",
    "stop_words = stop_words.split(' ')\n",
    "\n",
    "nouns = [word for word in nouns if word not in stop_words]\n",
    "nouns = [word for word in nouns if len(word) >= 2]\n",
    "\n",
    "top_nouns_not_stopword = Counter(nouns)\n",
    "\n",
    "top_nouns = dict(top_nouns_not_stopword.most_common(100))\n",
    "\n",
    "sorted(top_nouns.items(), key=lambda x: x[1], reverse=True)[:10]"
   ]
  },
  {
   "cell_type": "markdown",
   "metadata": {},
   "source": [
    "**추출된 명사의 빈도별로 살펴보면, 영화, 이해, 감독, 생각, 시간, 내용 등의 단어의 빈도가 가장 높았습니다.**"
   ]
  },
  {
   "cell_type": "markdown",
   "metadata": {},
   "source": [
    "## 4.4 TF-IDF"
   ]
  },
  {
   "cell_type": "markdown",
   "metadata": {},
   "source": [
    "* TF-IDF 를 계산하기 위해 scikit-learn의 TfidfVectorizer 라이브러리를 불러오겠습니다."
   ]
  },
  {
   "cell_type": "code",
   "execution_count": 19,
   "metadata": {},
   "outputs": [
    {
     "name": "stdout",
     "output_type": "stream",
     "text": [
      "[[0. 0. 0. ... 0. 0. 0.]\n",
      " [0. 0. 0. ... 0. 0. 0.]\n",
      " [0. 0. 0. ... 0. 0. 0.]\n",
      " ...\n",
      " [0. 0. 0. ... 0. 0. 0.]\n",
      " [0. 0. 0. ... 0. 0. 0.]\n",
      " [0. 0. 0. ... 0. 0. 0.]]\n",
      "TfidfVectorizer()\n"
     ]
    }
   ],
   "source": [
    "from sklearn.feature_extraction.text import TfidfVectorizer\n",
    "\n",
    "review_tfidf = TfidfVectorizer().fit(top_nouns)\n",
    "\n",
    "print(review_tfidf.transform(movie_data['new_text']).toarray())\n",
    "print(review_tfidf)"
   ]
  },
  {
   "cell_type": "markdown",
   "metadata": {},
   "source": [
    "* 컬럼에 해당하는 단어와 리뷰문서 * 단어 행렬을 출력하겠습니다."
   ]
  },
  {
   "cell_type": "code",
   "execution_count": 20,
   "metadata": {},
   "outputs": [
    {
     "name": "stdout",
     "output_type": "stream",
     "text": [
      "[('가능', 0), ('감독', 1), ('감동', 2), ('감탄', 3), ('개인', 4), ('건지', 5), ('과거', 6), ('과학', 7), ('관객', 8), ('관람', 9), ('극장', 10), ('기대', 11), ('기억', 12), ('내용', 13), ('놀란', 14), ('느낌', 15), ('대박', 16), ('대사', 17), ('동안', 18), ('때문', 19), ('떡밥', 20), ('마지막', 21), ('머리', 22), ('메멘토', 23), ('명작', 24), ('몰입', 25), ('물리학', 26), ('미래', 27), ('배우', 28), ('버전', 29), ('부분', 30), ('부족', 31), ('불친절', 32), ('사람', 33), ('사운드', 34), ('상상', 35), ('상상력', 36), ('생각', 37), ('설명', 38), ('설정', 39), ('세계', 40), ('세상', 41), ('소름', 42), ('소리', 43), ('소재', 44), ('수준', 45), ('순간', 46), ('스텔라', 47), ('스토리', 48), ('시간', 49), ('시작', 50), ('실망', 51), ('액션', 52), ('역행', 53), ('연기', 54), ('연출', 55), ('영상', 56), ('영상미', 57), ('영화', 58), ('영화관', 59), ('오랜만', 60), ('완벽', 61), ('우리', 62), ('음악', 63), ('이번', 64), ('이상', 65), ('이야기', 66), ('이유', 67), ('이해', 68), ('인생', 69), ('인셉션', 70), ('인터', 71), ('자신', 72), ('자체', 73), ('작품', 74), ('장면', 75), ('재미', 76), ('전개', 77), ('정도', 78), ('정신', 79), ('주인공', 80), ('중간', 81), ('중반', 82), ('집중', 83), ('처음', 84), ('천재', 85), ('초반', 86), ('최고', 87), ('추천', 88), ('코로나', 89), ('크리스토퍼', 90), ('타임', 91), ('평점', 92), ('표현', 93), ('필요', 94), ('해석', 95), ('현재', 96), ('회차', 97), ('흐름', 98), ('흥미', 99)]\n"
     ]
    },
    {
     "data": {
      "text/html": [
       "<div>\n",
       "<style scoped>\n",
       "    .dataframe tbody tr th:only-of-type {\n",
       "        vertical-align: middle;\n",
       "    }\n",
       "\n",
       "    .dataframe tbody tr th {\n",
       "        vertical-align: top;\n",
       "    }\n",
       "\n",
       "    .dataframe thead th {\n",
       "        text-align: right;\n",
       "    }\n",
       "</style>\n",
       "<table border=\"1\" class=\"dataframe\">\n",
       "  <thead>\n",
       "    <tr style=\"text-align: right;\">\n",
       "      <th></th>\n",
       "      <th>0</th>\n",
       "      <th>1</th>\n",
       "      <th>2</th>\n",
       "      <th>3</th>\n",
       "      <th>4</th>\n",
       "      <th>5</th>\n",
       "      <th>6</th>\n",
       "      <th>7</th>\n",
       "      <th>8</th>\n",
       "      <th>9</th>\n",
       "      <th>...</th>\n",
       "      <th>90</th>\n",
       "      <th>91</th>\n",
       "      <th>92</th>\n",
       "      <th>93</th>\n",
       "      <th>94</th>\n",
       "      <th>95</th>\n",
       "      <th>96</th>\n",
       "      <th>97</th>\n",
       "      <th>98</th>\n",
       "      <th>99</th>\n",
       "    </tr>\n",
       "  </thead>\n",
       "  <tbody>\n",
       "    <tr>\n",
       "      <th>0</th>\n",
       "      <td>0.0</td>\n",
       "      <td>0.0</td>\n",
       "      <td>0.0</td>\n",
       "      <td>0.0</td>\n",
       "      <td>0.0</td>\n",
       "      <td>0.0</td>\n",
       "      <td>0.0</td>\n",
       "      <td>0.0</td>\n",
       "      <td>0.0</td>\n",
       "      <td>0.0</td>\n",
       "      <td>...</td>\n",
       "      <td>0.0</td>\n",
       "      <td>0.0</td>\n",
       "      <td>0.0</td>\n",
       "      <td>0.0</td>\n",
       "      <td>0.0</td>\n",
       "      <td>0.0</td>\n",
       "      <td>0.0</td>\n",
       "      <td>0.0</td>\n",
       "      <td>0.0</td>\n",
       "      <td>0.0</td>\n",
       "    </tr>\n",
       "    <tr>\n",
       "      <th>1</th>\n",
       "      <td>0.0</td>\n",
       "      <td>0.0</td>\n",
       "      <td>0.0</td>\n",
       "      <td>0.0</td>\n",
       "      <td>0.0</td>\n",
       "      <td>0.0</td>\n",
       "      <td>0.0</td>\n",
       "      <td>0.0</td>\n",
       "      <td>0.0</td>\n",
       "      <td>0.0</td>\n",
       "      <td>...</td>\n",
       "      <td>0.0</td>\n",
       "      <td>0.0</td>\n",
       "      <td>0.0</td>\n",
       "      <td>0.0</td>\n",
       "      <td>0.0</td>\n",
       "      <td>0.0</td>\n",
       "      <td>0.0</td>\n",
       "      <td>0.0</td>\n",
       "      <td>0.0</td>\n",
       "      <td>0.0</td>\n",
       "    </tr>\n",
       "    <tr>\n",
       "      <th>2</th>\n",
       "      <td>0.0</td>\n",
       "      <td>0.0</td>\n",
       "      <td>0.0</td>\n",
       "      <td>0.0</td>\n",
       "      <td>0.0</td>\n",
       "      <td>0.0</td>\n",
       "      <td>0.0</td>\n",
       "      <td>0.0</td>\n",
       "      <td>0.0</td>\n",
       "      <td>0.0</td>\n",
       "      <td>...</td>\n",
       "      <td>0.0</td>\n",
       "      <td>0.0</td>\n",
       "      <td>0.0</td>\n",
       "      <td>0.0</td>\n",
       "      <td>0.0</td>\n",
       "      <td>0.0</td>\n",
       "      <td>0.0</td>\n",
       "      <td>0.0</td>\n",
       "      <td>0.0</td>\n",
       "      <td>0.0</td>\n",
       "    </tr>\n",
       "    <tr>\n",
       "      <th>3</th>\n",
       "      <td>0.0</td>\n",
       "      <td>0.0</td>\n",
       "      <td>0.0</td>\n",
       "      <td>0.0</td>\n",
       "      <td>0.0</td>\n",
       "      <td>0.0</td>\n",
       "      <td>0.0</td>\n",
       "      <td>0.0</td>\n",
       "      <td>0.0</td>\n",
       "      <td>0.0</td>\n",
       "      <td>...</td>\n",
       "      <td>0.0</td>\n",
       "      <td>0.0</td>\n",
       "      <td>0.0</td>\n",
       "      <td>0.0</td>\n",
       "      <td>0.0</td>\n",
       "      <td>0.0</td>\n",
       "      <td>0.0</td>\n",
       "      <td>0.0</td>\n",
       "      <td>0.0</td>\n",
       "      <td>0.0</td>\n",
       "    </tr>\n",
       "    <tr>\n",
       "      <th>4</th>\n",
       "      <td>0.0</td>\n",
       "      <td>0.0</td>\n",
       "      <td>0.0</td>\n",
       "      <td>0.0</td>\n",
       "      <td>0.0</td>\n",
       "      <td>0.0</td>\n",
       "      <td>0.0</td>\n",
       "      <td>0.0</td>\n",
       "      <td>0.0</td>\n",
       "      <td>0.0</td>\n",
       "      <td>...</td>\n",
       "      <td>0.0</td>\n",
       "      <td>0.0</td>\n",
       "      <td>0.0</td>\n",
       "      <td>0.0</td>\n",
       "      <td>0.0</td>\n",
       "      <td>0.0</td>\n",
       "      <td>0.0</td>\n",
       "      <td>0.0</td>\n",
       "      <td>0.0</td>\n",
       "      <td>0.0</td>\n",
       "    </tr>\n",
       "  </tbody>\n",
       "</table>\n",
       "<p>5 rows × 100 columns</p>\n",
       "</div>"
      ],
      "text/plain": [
       "    0    1    2    3    4    5    6    7    8    9   ...   90   91   92   93  \\\n",
       "0  0.0  0.0  0.0  0.0  0.0  0.0  0.0  0.0  0.0  0.0  ...  0.0  0.0  0.0  0.0   \n",
       "1  0.0  0.0  0.0  0.0  0.0  0.0  0.0  0.0  0.0  0.0  ...  0.0  0.0  0.0  0.0   \n",
       "2  0.0  0.0  0.0  0.0  0.0  0.0  0.0  0.0  0.0  0.0  ...  0.0  0.0  0.0  0.0   \n",
       "3  0.0  0.0  0.0  0.0  0.0  0.0  0.0  0.0  0.0  0.0  ...  0.0  0.0  0.0  0.0   \n",
       "4  0.0  0.0  0.0  0.0  0.0  0.0  0.0  0.0  0.0  0.0  ...  0.0  0.0  0.0  0.0   \n",
       "\n",
       "    94   95   96   97   98   99  \n",
       "0  0.0  0.0  0.0  0.0  0.0  0.0  \n",
       "1  0.0  0.0  0.0  0.0  0.0  0.0  \n",
       "2  0.0  0.0  0.0  0.0  0.0  0.0  \n",
       "3  0.0  0.0  0.0  0.0  0.0  0.0  \n",
       "4  0.0  0.0  0.0  0.0  0.0  0.0  \n",
       "\n",
       "[5 rows x 100 columns]"
      ]
     },
     "execution_count": 20,
     "metadata": {},
     "output_type": "execute_result"
    }
   ],
   "source": [
    "word_tfidf = review_tfidf.vocabulary_  # vocabulary_ : 각 인덱스에 해당하는 단어를 보여줍니다.\n",
    "\n",
    "df_tfidf = pd.DataFrame(review_tfidf.transform(movie_data['new_text']).toarray())\n",
    "\n",
    "print(sorted(word_tfidf.items()))\n",
    "df_tfidf.head()"
   ]
  },
  {
   "cell_type": "markdown",
   "metadata": {},
   "source": [
    "* 컬럼에 숫자 대신 단어로 변환시키기 위해 각 컬럼번호별 단어를 리스트로 만들겠습니다."
   ]
  },
  {
   "cell_type": "code",
   "execution_count": 21,
   "metadata": {},
   "outputs": [
    {
     "name": "stdout",
     "output_type": "stream",
     "text": [
      "100\n"
     ]
    },
    {
     "data": {
      "text/plain": [
       "['가능', '감독', '감동', '감탄', '개인', '건지', '과거', '과학', '관객', '관람']"
      ]
     },
     "execution_count": 21,
     "metadata": {},
     "output_type": "execute_result"
    }
   ],
   "source": [
    "sorted_word = sorted(word_tfidf.items())\n",
    "\n",
    "word_list = []\n",
    "for word in sorted_word:\n",
    "    word_list.append(word[0])\n",
    "\n",
    "print(len(word_list))\n",
    "word_list[:10]"
   ]
  },
  {
   "cell_type": "markdown",
   "metadata": {},
   "source": [
    "* 컬럼을 위에서 만든 리스트로 변환하겠습니다."
   ]
  },
  {
   "cell_type": "code",
   "execution_count": 22,
   "metadata": {},
   "outputs": [
    {
     "data": {
      "text/html": [
       "<div>\n",
       "<style scoped>\n",
       "    .dataframe tbody tr th:only-of-type {\n",
       "        vertical-align: middle;\n",
       "    }\n",
       "\n",
       "    .dataframe tbody tr th {\n",
       "        vertical-align: top;\n",
       "    }\n",
       "\n",
       "    .dataframe thead th {\n",
       "        text-align: right;\n",
       "    }\n",
       "</style>\n",
       "<table border=\"1\" class=\"dataframe\">\n",
       "  <thead>\n",
       "    <tr style=\"text-align: right;\">\n",
       "      <th></th>\n",
       "      <th>가능</th>\n",
       "      <th>감독</th>\n",
       "      <th>감동</th>\n",
       "      <th>감탄</th>\n",
       "      <th>개인</th>\n",
       "      <th>건지</th>\n",
       "      <th>과거</th>\n",
       "      <th>과학</th>\n",
       "      <th>관객</th>\n",
       "      <th>관람</th>\n",
       "      <th>...</th>\n",
       "      <th>크리스토퍼</th>\n",
       "      <th>타임</th>\n",
       "      <th>평점</th>\n",
       "      <th>표현</th>\n",
       "      <th>필요</th>\n",
       "      <th>해석</th>\n",
       "      <th>현재</th>\n",
       "      <th>회차</th>\n",
       "      <th>흐름</th>\n",
       "      <th>흥미</th>\n",
       "    </tr>\n",
       "  </thead>\n",
       "  <tbody>\n",
       "    <tr>\n",
       "      <th>0</th>\n",
       "      <td>0.0</td>\n",
       "      <td>0.0</td>\n",
       "      <td>0.0</td>\n",
       "      <td>0.0</td>\n",
       "      <td>0.0</td>\n",
       "      <td>0.0</td>\n",
       "      <td>0.0</td>\n",
       "      <td>0.0</td>\n",
       "      <td>0.0</td>\n",
       "      <td>0.0</td>\n",
       "      <td>...</td>\n",
       "      <td>0.0</td>\n",
       "      <td>0.0</td>\n",
       "      <td>0.0</td>\n",
       "      <td>0.0</td>\n",
       "      <td>0.0</td>\n",
       "      <td>0.0</td>\n",
       "      <td>0.0</td>\n",
       "      <td>0.0</td>\n",
       "      <td>0.0</td>\n",
       "      <td>0.0</td>\n",
       "    </tr>\n",
       "    <tr>\n",
       "      <th>1</th>\n",
       "      <td>0.0</td>\n",
       "      <td>0.0</td>\n",
       "      <td>0.0</td>\n",
       "      <td>0.0</td>\n",
       "      <td>0.0</td>\n",
       "      <td>0.0</td>\n",
       "      <td>0.0</td>\n",
       "      <td>0.0</td>\n",
       "      <td>0.0</td>\n",
       "      <td>0.0</td>\n",
       "      <td>...</td>\n",
       "      <td>0.0</td>\n",
       "      <td>0.0</td>\n",
       "      <td>0.0</td>\n",
       "      <td>0.0</td>\n",
       "      <td>0.0</td>\n",
       "      <td>0.0</td>\n",
       "      <td>0.0</td>\n",
       "      <td>0.0</td>\n",
       "      <td>0.0</td>\n",
       "      <td>0.0</td>\n",
       "    </tr>\n",
       "    <tr>\n",
       "      <th>2</th>\n",
       "      <td>0.0</td>\n",
       "      <td>0.0</td>\n",
       "      <td>0.0</td>\n",
       "      <td>0.0</td>\n",
       "      <td>0.0</td>\n",
       "      <td>0.0</td>\n",
       "      <td>0.0</td>\n",
       "      <td>0.0</td>\n",
       "      <td>0.0</td>\n",
       "      <td>0.0</td>\n",
       "      <td>...</td>\n",
       "      <td>0.0</td>\n",
       "      <td>0.0</td>\n",
       "      <td>0.0</td>\n",
       "      <td>0.0</td>\n",
       "      <td>0.0</td>\n",
       "      <td>0.0</td>\n",
       "      <td>0.0</td>\n",
       "      <td>0.0</td>\n",
       "      <td>0.0</td>\n",
       "      <td>0.0</td>\n",
       "    </tr>\n",
       "    <tr>\n",
       "      <th>3</th>\n",
       "      <td>0.0</td>\n",
       "      <td>0.0</td>\n",
       "      <td>0.0</td>\n",
       "      <td>0.0</td>\n",
       "      <td>0.0</td>\n",
       "      <td>0.0</td>\n",
       "      <td>0.0</td>\n",
       "      <td>0.0</td>\n",
       "      <td>0.0</td>\n",
       "      <td>0.0</td>\n",
       "      <td>...</td>\n",
       "      <td>0.0</td>\n",
       "      <td>0.0</td>\n",
       "      <td>0.0</td>\n",
       "      <td>0.0</td>\n",
       "      <td>0.0</td>\n",
       "      <td>0.0</td>\n",
       "      <td>0.0</td>\n",
       "      <td>0.0</td>\n",
       "      <td>0.0</td>\n",
       "      <td>0.0</td>\n",
       "    </tr>\n",
       "    <tr>\n",
       "      <th>4</th>\n",
       "      <td>0.0</td>\n",
       "      <td>0.0</td>\n",
       "      <td>0.0</td>\n",
       "      <td>0.0</td>\n",
       "      <td>0.0</td>\n",
       "      <td>0.0</td>\n",
       "      <td>0.0</td>\n",
       "      <td>0.0</td>\n",
       "      <td>0.0</td>\n",
       "      <td>0.0</td>\n",
       "      <td>...</td>\n",
       "      <td>0.0</td>\n",
       "      <td>0.0</td>\n",
       "      <td>0.0</td>\n",
       "      <td>0.0</td>\n",
       "      <td>0.0</td>\n",
       "      <td>0.0</td>\n",
       "      <td>0.0</td>\n",
       "      <td>0.0</td>\n",
       "      <td>0.0</td>\n",
       "      <td>0.0</td>\n",
       "    </tr>\n",
       "  </tbody>\n",
       "</table>\n",
       "<p>5 rows × 100 columns</p>\n",
       "</div>"
      ],
      "text/plain": [
       "    가능   감독   감동   감탄   개인   건지   과거   과학   관객   관람  ...  크리스토퍼   타임   평점  \\\n",
       "0  0.0  0.0  0.0  0.0  0.0  0.0  0.0  0.0  0.0  0.0  ...    0.0  0.0  0.0   \n",
       "1  0.0  0.0  0.0  0.0  0.0  0.0  0.0  0.0  0.0  0.0  ...    0.0  0.0  0.0   \n",
       "2  0.0  0.0  0.0  0.0  0.0  0.0  0.0  0.0  0.0  0.0  ...    0.0  0.0  0.0   \n",
       "3  0.0  0.0  0.0  0.0  0.0  0.0  0.0  0.0  0.0  0.0  ...    0.0  0.0  0.0   \n",
       "4  0.0  0.0  0.0  0.0  0.0  0.0  0.0  0.0  0.0  0.0  ...    0.0  0.0  0.0   \n",
       "\n",
       "    표현   필요   해석   현재   회차   흐름   흥미  \n",
       "0  0.0  0.0  0.0  0.0  0.0  0.0  0.0  \n",
       "1  0.0  0.0  0.0  0.0  0.0  0.0  0.0  \n",
       "2  0.0  0.0  0.0  0.0  0.0  0.0  0.0  \n",
       "3  0.0  0.0  0.0  0.0  0.0  0.0  0.0  \n",
       "4  0.0  0.0  0.0  0.0  0.0  0.0  0.0  \n",
       "\n",
       "[5 rows x 100 columns]"
      ]
     },
     "execution_count": 22,
     "metadata": {},
     "output_type": "execute_result"
    }
   ],
   "source": [
    "df_tfidf.columns = word_list\n",
    "\n",
    "df_tfidf.head()"
   ]
  },
  {
   "cell_type": "markdown",
   "metadata": {},
   "source": [
    "* 각 단어별 TF-IDF 값의 총합을 구한 후, 높은 순대로 출력하겠습니다."
   ]
  },
  {
   "cell_type": "code",
   "execution_count": 23,
   "metadata": {
    "scrolled": false
   },
   "outputs": [
    {
     "name": "stdout",
     "output_type": "stream",
     "text": [
      "{'가능': 0.9472135954999579, '감독': 120.9240802269192, '감동': 14.772641167618323, '감탄': 10.439157588755425, '개인': 3.0606601717798214, '건지': 12.505800827346718, '과거': 19.065259660300377, '과학': 4.023334547203385, '관객': 11.084661635311907, '관람': 36.413957469726206, '극장': 12.299869563197348, '기대': 17.498495035992253, '기억': 2.8355491589367867, '내용': 69.88559449650025, '놀란': 513.6291659620476, '느낌': 72.53652955266907, '대박': 28.915622632863972, '대사': 13.143854890571413, '동안': 14.052212341053657, '때문': 1.2581988897471612, '떡밥': 12.853949231522027, '마지막': 61.77469512402407, '머리': 28.08725886405221, '메멘토': 18.409938961900707, '명작': 22.81999095630891, '몰입': 3.1153550716504106, '물리학': 19.25208792803123, '미래': 12.439543180393162, '배우': 2.121320343559643, '버전': 1.7071067811865475, '부분': 4.480710567046415, '부족': 1.5517182922885975, '불친절': 4.418410714806935, '사람': 25.8715541856706, '사운드': 22.97720443570924, '상상': 5.2696754483369155, '상상력': 11.678884241376089, '생각': 28.796083774431818, '설명': 12.787223835947753, '설정': 7.3951929443303985, '세계': 6.869528304571949, '세상': 5.322461852836958, '소름': 31.1086030733138, '소리': 5.284457050376173, '소재': 7.2846390077032055, '수준': 10.797153347525121, '순간': 17.974691494688162, '스텔라': 0.0, '스토리': 124.88022542771805, '시간': 110.38285749498647, '시작': 5.82842712474619, '실망': 7.99156383156272, '액션': 50.93738120701232, '역행': 4.0685339390596, '연기': 30.091490692257146, '연출': 57.55406641160235, '영상': 16.772366441486923, '영상미': 31.781934711351518, '영화': 1041.0264181472194, '영화관': 16.604448006685082, '오랜만': 0.0, '완벽': 4.8618073195657985, '우리': 8.055888211810007, '음악': 14.744747104717824, '이번': 28.157437413724885, '이상': 22.155149106294814, '이야기': 16.069880033272646, '이유': 2.7071067811865475, '이해': 235.01949468314567, '인생': 10.819990956308912, '인셉션': 97.58816452628606, '인터': 0.0, '자신': 1.4082482904638631, '자체': 5.3850305199873265, '작품': 51.44281129064507, '장면': 41.52526387902716, '재미': 28.50289853265881, '전개': 14.02285872149202, '정도': 12.953675805828784, '정신': 4.115355071650411, '주인공': 34.76337205922796, '중간': 6.485036757762757, '중반': 4.33052570096311, '집중': 7.357995758769697, '처음': 43.63300806820868, '천재': 27.54010210072176, '초반': 19.285430824278095, '최고': 50.81012687220276, '추천': 24.2001154415589, '코로나': 26.744031921286695, '크리스토퍼': 126.71817509098005, '타임': 8.771505209642948, '평점': 71.25201484885386, '표현': 4.115355071650411, '필요': 9.438777427062679, '해석': 22.452041421723766, '현재': 17.433582143152833, '회차': 29.116680244078704, '흐름': 6.991563831562721, '흥미': 1.0}\n"
     ]
    },
    {
     "data": {
      "text/html": [
       "<div>\n",
       "<style scoped>\n",
       "    .dataframe tbody tr th:only-of-type {\n",
       "        vertical-align: middle;\n",
       "    }\n",
       "\n",
       "    .dataframe tbody tr th {\n",
       "        vertical-align: top;\n",
       "    }\n",
       "\n",
       "    .dataframe thead th {\n",
       "        text-align: right;\n",
       "    }\n",
       "</style>\n",
       "<table border=\"1\" class=\"dataframe\">\n",
       "  <thead>\n",
       "    <tr style=\"text-align: right;\">\n",
       "      <th></th>\n",
       "      <th>TF-IDF</th>\n",
       "    </tr>\n",
       "  </thead>\n",
       "  <tbody>\n",
       "    <tr>\n",
       "      <th>영화</th>\n",
       "      <td>1041.026418</td>\n",
       "    </tr>\n",
       "    <tr>\n",
       "      <th>놀란</th>\n",
       "      <td>513.629166</td>\n",
       "    </tr>\n",
       "    <tr>\n",
       "      <th>이해</th>\n",
       "      <td>235.019495</td>\n",
       "    </tr>\n",
       "    <tr>\n",
       "      <th>크리스토퍼</th>\n",
       "      <td>126.718175</td>\n",
       "    </tr>\n",
       "    <tr>\n",
       "      <th>스토리</th>\n",
       "      <td>124.880225</td>\n",
       "    </tr>\n",
       "    <tr>\n",
       "      <th>감독</th>\n",
       "      <td>120.924080</td>\n",
       "    </tr>\n",
       "    <tr>\n",
       "      <th>시간</th>\n",
       "      <td>110.382857</td>\n",
       "    </tr>\n",
       "    <tr>\n",
       "      <th>인셉션</th>\n",
       "      <td>97.588165</td>\n",
       "    </tr>\n",
       "    <tr>\n",
       "      <th>느낌</th>\n",
       "      <td>72.536530</td>\n",
       "    </tr>\n",
       "    <tr>\n",
       "      <th>평점</th>\n",
       "      <td>71.252015</td>\n",
       "    </tr>\n",
       "    <tr>\n",
       "      <th>내용</th>\n",
       "      <td>69.885594</td>\n",
       "    </tr>\n",
       "    <tr>\n",
       "      <th>마지막</th>\n",
       "      <td>61.774695</td>\n",
       "    </tr>\n",
       "    <tr>\n",
       "      <th>연출</th>\n",
       "      <td>57.554066</td>\n",
       "    </tr>\n",
       "    <tr>\n",
       "      <th>작품</th>\n",
       "      <td>51.442811</td>\n",
       "    </tr>\n",
       "    <tr>\n",
       "      <th>액션</th>\n",
       "      <td>50.937381</td>\n",
       "    </tr>\n",
       "    <tr>\n",
       "      <th>최고</th>\n",
       "      <td>50.810127</td>\n",
       "    </tr>\n",
       "    <tr>\n",
       "      <th>처음</th>\n",
       "      <td>43.633008</td>\n",
       "    </tr>\n",
       "    <tr>\n",
       "      <th>장면</th>\n",
       "      <td>41.525264</td>\n",
       "    </tr>\n",
       "    <tr>\n",
       "      <th>관람</th>\n",
       "      <td>36.413957</td>\n",
       "    </tr>\n",
       "    <tr>\n",
       "      <th>주인공</th>\n",
       "      <td>34.763372</td>\n",
       "    </tr>\n",
       "  </tbody>\n",
       "</table>\n",
       "</div>"
      ],
      "text/plain": [
       "            TF-IDF\n",
       "영화     1041.026418\n",
       "놀란      513.629166\n",
       "이해      235.019495\n",
       "크리스토퍼   126.718175\n",
       "스토리     124.880225\n",
       "감독      120.924080\n",
       "시간      110.382857\n",
       "인셉션      97.588165\n",
       "느낌       72.536530\n",
       "평점       71.252015\n",
       "내용       69.885594\n",
       "마지막      61.774695\n",
       "연출       57.554066\n",
       "작품       51.442811\n",
       "액션       50.937381\n",
       "최고       50.810127\n",
       "처음       43.633008\n",
       "장면       41.525264\n",
       "관람       36.413957\n",
       "주인공      34.763372"
      ]
     },
     "execution_count": 23,
     "metadata": {},
     "output_type": "execute_result"
    }
   ],
   "source": [
    "df_tfidf_col_list = list(df_tfidf.columns)\n",
    "\n",
    "df_tfidf_dict = {index : word for word, index in enumerate(df_tfidf_col_list)}\n",
    "\n",
    "for word, idx in df_tfidf_dict.items():\n",
    "    total = df_tfidf[word].sum()\n",
    "    df_tfidf_dict[word] = total\n",
    "    \n",
    "print(df_tfidf_dict)\n",
    "\n",
    "df_tfidf = pd.DataFrame([df_tfidf_dict])\n",
    "\n",
    "df_tfidf = df_tfidf.T\n",
    "\n",
    "df_tfidf.columns = ['TF-IDF']\n",
    "\n",
    "df_tfidf = df_tfidf.sort_values(by = 'TF-IDF', ascending = False)\n",
    "\n",
    "df_tfidf.head(20)"
   ]
  },
  {
   "cell_type": "markdown",
   "metadata": {},
   "source": [
    "**영화 테넷의 리뷰 중 TF-IDF 값이 가장 높은 단어는 영화(1041.026)인 것으로 나타났습니다. 다음으로, 놀란(513.629), 이해(235.02), 크리스토퍼(126.718) 등의 순으로 나타났습니다.**"
   ]
  },
  {
   "cell_type": "code",
   "execution_count": 24,
   "metadata": {},
   "outputs": [
    {
     "data": {
      "text/plain": [
       "<matplotlib.axes._subplots.AxesSubplot at 0x20198622280>"
      ]
     },
     "execution_count": 24,
     "metadata": {},
     "output_type": "execute_result"
    },
    {
     "data": {
      "image/png": "[encoded data removed]",
      "text/plain": [
       "<Figure size 576x360 with 1 Axes>"
      ]
     },
     "metadata": {
      "needs_background": "light"
     },
     "output_type": "display_data"
    }
   ],
   "source": [
    "# TF-IDF 값 상위 10개 단어 시각화\n",
    "\n",
    "plt.rc('font', family = 'Malgun Gothic')\n",
    "plt.figure(figsize = (8, 5))\n",
    "\n",
    "top_10 = df_tfidf.head(10)\n",
    "\n",
    "sns.lineplot(data = top_10, x = top_10.index, y = 'TF-IDF')"
   ]
  },
  {
   "cell_type": "markdown",
   "metadata": {},
   "source": [
    "# 5. 감성 분석 모델"
   ]
  },
  {
   "cell_type": "code",
   "execution_count": 25,
   "metadata": {},
   "outputs": [
    {
     "data": {
      "text/html": [
       "<div>\n",
       "<style scoped>\n",
       "    .dataframe tbody tr th:only-of-type {\n",
       "        vertical-align: middle;\n",
       "    }\n",
       "\n",
       "    .dataframe tbody tr th {\n",
       "        vertical-align: top;\n",
       "    }\n",
       "\n",
       "    .dataframe thead th {\n",
       "        text-align: right;\n",
       "    }\n",
       "</style>\n",
       "<table border=\"1\" class=\"dataframe\">\n",
       "  <thead>\n",
       "    <tr style=\"text-align: right;\">\n",
       "      <th></th>\n",
       "      <th>title</th>\n",
       "      <th>score</th>\n",
       "      <th>text</th>\n",
       "      <th>new_text</th>\n",
       "    </tr>\n",
       "  </thead>\n",
       "  <tbody>\n",
       "    <tr>\n",
       "      <th>0</th>\n",
       "      <td>테넷</td>\n",
       "      <td>8</td>\n",
       "      <td>'놀란감독 다운 영화입니다'</td>\n",
       "      <td>놀란감독 다운 영화입니다</td>\n",
       "    </tr>\n",
       "    <tr>\n",
       "      <th>1</th>\n",
       "      <td>테넷</td>\n",
       "      <td>9</td>\n",
       "      <td>'나만 그런줄 알았드니 역시 놀란 영화두번 봐야됨 ㅋ'</td>\n",
       "      <td>나만 그런줄 알았드니 역시 놀란 영화두번 봐야됨 ㅋ</td>\n",
       "    </tr>\n",
       "    <tr>\n",
       "      <th>2</th>\n",
       "      <td>테넷</td>\n",
       "      <td>9</td>\n",
       "      <td>'초반은 누구나 재밌게볼수있지만</td>\n",
       "      <td>초반은 누구나 재밌게볼수있지만</td>\n",
       "    </tr>\n",
       "    <tr>\n",
       "      <th>3</th>\n",
       "      <td>테넷</td>\n",
       "      <td>6</td>\n",
       "      <td>'아니 그래서 복권은 언제 사는데'</td>\n",
       "      <td>아니 그래서 복권은 언제 사는데</td>\n",
       "    </tr>\n",
       "    <tr>\n",
       "      <th>4</th>\n",
       "      <td>테넷</td>\n",
       "      <td>10</td>\n",
       "      <td>'과거의 내가 미래의 나를 위로하는 느낌'</td>\n",
       "      <td>과거의 내가 미래의 나를 위로하는 느낌</td>\n",
       "    </tr>\n",
       "    <tr>\n",
       "      <th>...</th>\n",
       "      <td>...</td>\n",
       "      <td>...</td>\n",
       "      <td>...</td>\n",
       "      <td>...</td>\n",
       "    </tr>\n",
       "    <tr>\n",
       "      <th>8813</th>\n",
       "      <td>테넷</td>\n",
       "      <td>10</td>\n",
       "      <td>'여러분 저만 어렵고 이해 안된거 아니죠?놀란이 만든 논란의 영화네요~'</td>\n",
       "      <td>여러분 저만 어렵고 이해 안된거 아니죠놀란이 만든 논란의 영화네요</td>\n",
       "    </tr>\n",
       "    <tr>\n",
       "      <th>8814</th>\n",
       "      <td>테넷</td>\n",
       "      <td>8</td>\n",
       "      <td>'역시 이해 할 수 없는 크리스토퍼 놀란의  세계'</td>\n",
       "      <td>역시 이해 할 수 없는 크리스토퍼 놀란의  세계</td>\n",
       "    </tr>\n",
       "    <tr>\n",
       "      <th>8815</th>\n",
       "      <td>테넷</td>\n",
       "      <td>10</td>\n",
       "      <td>'역시나 놀란감독의 영화.. 대단했다. 머리속에서 어떻게 이런 시나리오가 나오는지...</td>\n",
       "      <td>역시나 놀란감독의 영화 대단했다 머리속에서 어떻게 이런 시나리오가 나오는지 그저 ...</td>\n",
       "    </tr>\n",
       "    <tr>\n",
       "      <th>8816</th>\n",
       "      <td>테넷</td>\n",
       "      <td>9</td>\n",
       "      <td>'이해 못 해도 재밌다. 하지만 이해 한다면 훨씬 재밌을 것이다. 좀만 더 쉽게 ...</td>\n",
       "      <td>이해 못 해도 재밌다 하지만 이해 한다면 훨씬 재밌을 것이다 좀만 더 쉽게 만들어...</td>\n",
       "    </tr>\n",
       "    <tr>\n",
       "      <th>8817</th>\n",
       "      <td>테넷</td>\n",
       "      <td>10</td>\n",
       "      <td>'이해하지 말고 느껴라!'</td>\n",
       "      <td>이해하지 말고 느껴라</td>\n",
       "    </tr>\n",
       "  </tbody>\n",
       "</table>\n",
       "<p>8208 rows × 4 columns</p>\n",
       "</div>"
      ],
      "text/plain": [
       "     title  score                                               text  \\\n",
       "0       테넷      8                                    '놀란감독 다운 영화입니다'   \n",
       "1       테넷      9                     '나만 그런줄 알았드니 역시 놀란 영화두번 봐야됨 ㅋ'   \n",
       "2       테넷      9                                  '초반은 누구나 재밌게볼수있지만   \n",
       "3       테넷      6                                '아니 그래서 복권은 언제 사는데'   \n",
       "4       테넷     10                            '과거의 내가 미래의 나를 위로하는 느낌'   \n",
       "...    ...    ...                                                ...   \n",
       "8813    테넷     10           '여러분 저만 어렵고 이해 안된거 아니죠?놀란이 만든 논란의 영화네요~'   \n",
       "8814    테넷      8                       '역시 이해 할 수 없는 크리스토퍼 놀란의  세계'   \n",
       "8815    테넷     10   '역시나 놀란감독의 영화.. 대단했다. 머리속에서 어떻게 이런 시나리오가 나오는지...   \n",
       "8816    테넷      9   '이해 못 해도 재밌다. 하지만 이해 한다면 훨씬 재밌을 것이다. 좀만 더 쉽게 ...   \n",
       "8817    테넷     10                                     '이해하지 말고 느껴라!'   \n",
       "\n",
       "                                               new_text  \n",
       "0                                         놀란감독 다운 영화입니다  \n",
       "1                          나만 그런줄 알았드니 역시 놀란 영화두번 봐야됨 ㅋ  \n",
       "2                                      초반은 누구나 재밌게볼수있지만  \n",
       "3                                     아니 그래서 복권은 언제 사는데  \n",
       "4                                 과거의 내가 미래의 나를 위로하는 느낌  \n",
       "...                                                 ...  \n",
       "8813               여러분 저만 어렵고 이해 안된거 아니죠놀란이 만든 논란의 영화네요  \n",
       "8814                         역시 이해 할 수 없는 크리스토퍼 놀란의  세계  \n",
       "8815   역시나 놀란감독의 영화 대단했다 머리속에서 어떻게 이런 시나리오가 나오는지 그저 ...  \n",
       "8816   이해 못 해도 재밌다 하지만 이해 한다면 훨씬 재밌을 것이다 좀만 더 쉽게 만들어...  \n",
       "8817                                        이해하지 말고 느껴라  \n",
       "\n",
       "[8208 rows x 4 columns]"
      ]
     },
     "execution_count": 25,
     "metadata": {},
     "output_type": "execute_result"
    }
   ],
   "source": [
    "movie_data"
   ]
  },
  {
   "cell_type": "markdown",
   "metadata": {},
   "source": [
    "## 5.1 토큰화"
   ]
  },
  {
   "cell_type": "markdown",
   "metadata": {},
   "source": [
    "* 토큰화를 하기 전, 훈련 데이터+정답 그리고 검사 데이터+정답을 나누기 위해 train_test_split 을 불러오겠습니다."
   ]
  },
  {
   "cell_type": "code",
   "execution_count": 26,
   "metadata": {},
   "outputs": [],
   "source": [
    "from sklearn.model_selection import train_test_split\n",
    "\n",
    "x_train, x_test, y_train, y_test = train_test_split(movie_data['new_text'], movie_data['score'], test_size = 0.2, random_state=2020)"
   ]
  },
  {
   "cell_type": "code",
   "execution_count": 27,
   "metadata": {
    "scrolled": false
   },
   "outputs": [
    {
     "name": "stdout",
     "output_type": "stream",
     "text": [
      "훈련 데이터 수 : 6566, 정답 수 : 6566\n",
      "검사 데이터 수 : 1642, 정답 수 : 1642\n"
     ]
    }
   ],
   "source": [
    "print(f'훈련 데이터 수 : {len(x_train)}, 정답 수 : {len(y_train)}')\n",
    "print(f'검사 데이터 수 : {len(x_test)}, 정답 수 : {len(y_test)}')"
   ]
  },
  {
   "cell_type": "markdown",
   "metadata": {},
   "source": [
    "* 각각 데이터와 정답 수가 일치합니다."
   ]
  },
  {
   "cell_type": "markdown",
   "metadata": {},
   "source": [
    "### 5.1.1 X_train 토큰화"
   ]
  },
  {
   "cell_type": "markdown",
   "metadata": {},
   "source": [
    "* 토큰화 함수를 생성하겠습니다."
   ]
  },
  {
   "cell_type": "code",
   "execution_count": 28,
   "metadata": {},
   "outputs": [],
   "source": [
    "def tokenization(x):\n",
    "    token = []\n",
    "    for sentence in x:\n",
    "        temp = []\n",
    "        temp = mecab.morphs(sentence)\n",
    "        temp = [word for word in temp if word not in stop_words]\n",
    "        token.append(temp)\n",
    "    return token"
   ]
  },
  {
   "cell_type": "code",
   "execution_count": 29,
   "metadata": {},
   "outputs": [
    {
     "data": {
      "text/plain": [
       "[['술', '은', '먹', '었'],\n",
       " ['나', '는', '내일', '어제', '의', '너', '와', '만난다'],\n",
       " ['이해',\n",
       "  '가',\n",
       "  '안',\n",
       "  '가',\n",
       "  '재미',\n",
       "  '있',\n",
       "  '었',\n",
       "  '다',\n",
       "  '그게',\n",
       "  '가능',\n",
       "  '함',\n",
       "  '그런',\n",
       "  '분',\n",
       "  '들',\n",
       "  '이',\n",
       "  '매우',\n",
       "  '많',\n",
       "  '네여',\n",
       "  '제눈',\n",
       "  '앞',\n",
       "  '에',\n",
       "  '는',\n",
       "  '벌거벗',\n",
       "  '은',\n",
       "  '임금',\n",
       "  '님',\n",
       "  '만',\n",
       "  '보였'],\n",
       " ['두', '번', '은', '보'],\n",
       " ['미치',\n",
       "  '겠',\n",
       "  '다',\n",
       "  '보고',\n",
       "  '집',\n",
       "  '에',\n",
       "  '와서',\n",
       "  '하',\n",
       "  '는',\n",
       "  '일',\n",
       "  '이',\n",
       "  '는',\n",
       "  '머릿속',\n",
       "  '정리',\n",
       "  '하',\n",
       "  '고',\n",
       "  '또',\n",
       "  '정리',\n",
       "  '하',\n",
       "  '는',\n",
       "  '것',\n",
       "  '밖에',\n",
       "  '없',\n",
       "  '음',\n",
       "  '그게',\n",
       "  '짜릿',\n",
       "  '함',\n",
       "  'ㅠㅠ']]"
      ]
     },
     "execution_count": 29,
     "metadata": {},
     "output_type": "execute_result"
    }
   ],
   "source": [
    "X_train = tokenization(x_train)\n",
    "\n",
    "X_train[:5]"
   ]
  },
  {
   "cell_type": "markdown",
   "metadata": {},
   "source": [
    "### 5.1.2 X_test 토큰화"
   ]
  },
  {
   "cell_type": "code",
   "execution_count": 30,
   "metadata": {},
   "outputs": [
    {
     "data": {
      "text/plain": [
       "[['졸', 'ㄹ', '오', '두', '번', '보', '고', '옴'],\n",
       " ['일어난',\n",
       "  '일',\n",
       "  '은',\n",
       "  '일어난',\n",
       "  '것',\n",
       "  '내',\n",
       "  '가',\n",
       "  '영화',\n",
       "  '랑',\n",
       "  '같이',\n",
       "  '가',\n",
       "  '는',\n",
       "  '게',\n",
       "  '라',\n",
       "  '이',\n",
       "  '영화',\n",
       "  '가',\n",
       "  '이끄',\n",
       "  '는',\n",
       "  '대로',\n",
       "  '맡기',\n",
       "  '고',\n",
       "  '따라가',\n",
       "  '는',\n",
       "  '게',\n",
       "  '낫',\n",
       "  '겠',\n",
       "  '다',\n",
       "  '그리고',\n",
       "  '한번',\n",
       "  '볼',\n",
       "  '게',\n",
       "  '라',\n",
       "  '몇',\n",
       "  '번',\n",
       "  '은',\n",
       "  '봐야겠다고',\n",
       "  '생각',\n",
       "  '함'],\n",
       " ['평점',\n",
       "  '허세',\n",
       "  '들',\n",
       "  '보',\n",
       "  '면',\n",
       "  '짜증',\n",
       "  '난다',\n",
       "  'ㅡㅡ',\n",
       "  '이해',\n",
       "  '안',\n",
       "  '되',\n",
       "  '한번',\n",
       "  '더',\n",
       "  '보',\n",
       "  '는',\n",
       "  '거',\n",
       "  '지',\n",
       "  '한번',\n",
       "  '더',\n",
       "  '보',\n",
       "  '는',\n",
       "  '건',\n",
       "  '거',\n",
       "  '같',\n",
       "  '다',\n",
       "  '뿌린',\n",
       "  '떡밥',\n",
       "  '이',\n",
       "  '딱딱',\n",
       "  '맞',\n",
       "  '아',\n",
       "  '떨어질',\n",
       "  '때',\n",
       "  '영화',\n",
       "  '의',\n",
       "  '재미',\n",
       "  '가',\n",
       "  '더',\n",
       "  '해',\n",
       "  '지',\n",
       "  '뭐',\n",
       "  '맞',\n",
       "  '아',\n",
       "  '떨어져도',\n",
       "  '절반',\n",
       "  '이상',\n",
       "  '이',\n",
       "  '이해',\n",
       "  '가',\n",
       "  '안',\n",
       "  '가',\n",
       "  '니',\n",
       "  '재미',\n",
       "  '도',\n",
       "  '없',\n",
       "  '고',\n",
       "  '한번',\n",
       "  '더',\n",
       "  '볼',\n",
       "  '만',\n",
       "  '한',\n",
       "  '영화',\n",
       "  '는',\n",
       "  '아님',\n",
       "  '두',\n",
       "  '번',\n",
       "  '본다고',\n",
       "  '이해',\n",
       "  '될',\n",
       "  '거',\n",
       "  '같',\n",
       "  '지',\n",
       "  '도',\n",
       "  '않',\n",
       "  '고']]"
      ]
     },
     "execution_count": 30,
     "metadata": {},
     "output_type": "execute_result"
    }
   ],
   "source": [
    "X_test = tokenization(x_test)\n",
    "\n",
    "X_test[:3]"
   ]
  },
  {
   "cell_type": "markdown",
   "metadata": {},
   "source": [
    "## 5.2 정수 인코딩\n",
    "\n",
    "* 컴퓨터가 처리할 수 있도록 텍스트를 정수로 인코딩하는 작업을 수행하겠습니다."
   ]
  },
  {
   "cell_type": "code",
   "execution_count": 31,
   "metadata": {},
   "outputs": [],
   "source": [
    "from tensorflow.keras.preprocessing.text import Tokenizer"
   ]
  },
  {
   "cell_type": "markdown",
   "metadata": {},
   "source": [
    "* fit_on_texts() 함수를 활용하여 빈도 기반 단어별 인덱스를 설정하겠습니다. "
   ]
  },
  {
   "cell_type": "code",
   "execution_count": 32,
   "metadata": {},
   "outputs": [],
   "source": [
    "tokenizer = Tokenizer()\n",
    "tokenizer.fit_on_texts(X_train) "
   ]
  },
  {
   "cell_type": "code",
   "execution_count": 33,
   "metadata": {
    "scrolled": true
   },
   "outputs": [
    {
     "data": {
      "text/plain": [
       "[('는', 1),\n",
       " ('이', 2),\n",
       " ('하', 3),\n",
       " ('영화', 4),\n",
       " ('고', 5),\n",
       " ('다', 6),\n",
       " ('가', 7),\n",
       " ('이해', 8),\n",
       " ('은', 9),\n",
       " ('보', 10)]"
      ]
     },
     "execution_count": 33,
     "metadata": {},
     "output_type": "execute_result"
    }
   ],
   "source": [
    "# print(tokenizer.word_index)  # 각 단어별 인덱스\n",
    "\n",
    "sorted(tokenizer.word_index.items(), key=lambda x: x[1], reverse=False)[:10]"
   ]
  },
  {
   "cell_type": "markdown",
   "metadata": {},
   "source": [
    "* 위에서 낮은 인덱스의 단어가 고빈도를 의미하며, 높은 인덱스의 단어가 저빈도입니다. \n",
    "\n",
    "\n",
    "* 본 프로젝트에서는 빈도가 3회 미만인 단어들을 제외할 것이며, 이를 제외하면 몇 개의 데이터가 남는지를 살펴보겠습니다."
   ]
  },
  {
   "cell_type": "code",
   "execution_count": 34,
   "metadata": {},
   "outputs": [
    {
     "name": "stdout",
     "output_type": "stream",
     "text": [
      "단어집합 크기 : 8003\n",
      "빈도가 3 미만인 단어 수 : 5133\n",
      "빈도가 3 미만인 단어 비율 :64.14%\n"
     ]
    }
   ],
   "source": [
    "threshold = 3\n",
    "total_word_num = len(tokenizer.word_index)  # 단어 수\n",
    "low_freq_num = 0   # threshold 보다 작은 단어의 수\n",
    "freq_sum = 0       # 전체 단어의 빈도\n",
    "low_freq_sum = 0   # threshold보다 작은 단어의 총 빈도\n",
    "\n",
    "for key, value in tokenizer.word_counts.items():  # tokenizer.word_counts : 각 단어별 빈도\n",
    "    freq_sum += value\n",
    "    \n",
    "    # 단어의 빈도가 threshold보다 작은 경우\n",
    "    if value < threshold:\n",
    "        low_freq_num += 1\n",
    "        low_freq_sum += value\n",
    "        \n",
    "print('단어집합 크기 :', total_word_num)\n",
    "print('빈도가 3 미만인 단어 수 :', low_freq_num)\n",
    "print(f'빈도가 3 미만인 단어 비율 :{(low_freq_num / total_word_num) * 100:.2f}%')"
   ]
  },
  {
   "cell_type": "markdown",
   "metadata": {},
   "source": [
    "**총 단어집합 크기는 8003 이며, 빈도가 3 미만인 단어 비율은 64.14%로 절반 이상인 것으로 나타났습니다.**"
   ]
  },
  {
   "cell_type": "code",
   "execution_count": 35,
   "metadata": {},
   "outputs": [
    {
     "name": "stdout",
     "output_type": "stream",
     "text": [
      "단어 집합 크기 : 2872\n"
     ]
    }
   ],
   "source": [
    "# 전체 단어 개수 중 빈도가 3 미만인 단어 개수 제거하겠습니다.\n",
    "# 0번 패딩 토큰과 1번 OOV 토큰(OOV : 기타단어)을 고려하여 +2 하겠습니다.\n",
    "\n",
    "vocab_size = total_word_num - low_freq_num + 2\n",
    "print('단어 집합 크기 :', vocab_size)"
   ]
  },
  {
   "cell_type": "markdown",
   "metadata": {},
   "source": [
    "* 감성 분석에 사용될 vocab_size는 2872 입니다. 이를 케라스 토크나이저의 인자로 넘겨주면, 케라스 토크나이저는 텍스트 시퀀스를 숫자 시퀀스로 변환합니다. 이러한 정수 인코딩 과정에서 이보다 큰 숫자가 부여된 단어들은 OOV로 변환하겠습니다. 다시 말해 정수 1번으로 할당합니다."
   ]
  },
  {
   "cell_type": "code",
   "execution_count": 36,
   "metadata": {},
   "outputs": [],
   "source": [
    "tokenizer = Tokenizer(vocab_size, oov_token = 'OOV')\n",
    "tokenizer.fit_on_texts(X_train)\n",
    "\n",
    "# 훈련 데이터를 텍스트에서 정수로 변환하겠습니다.\n",
    "X_train = tokenizer.texts_to_sequences(X_train)\n",
    "\n",
    "# 검사 데이터를 텍스트에서 정수로 변환하겠습니다.\n",
    "X_test = tokenizer.texts_to_sequences(X_test)"
   ]
  },
  {
   "cell_type": "code",
   "execution_count": 37,
   "metadata": {},
   "outputs": [
    {
     "name": "stdout",
     "output_type": "stream",
     "text": [
      "[[1, 10, 488, 32], [36, 2, 434, 465, 15, 379, 63, 750], [9, 8, 26, 8, 106, 21, 32, 7, 655, 346, 68, 259, 135, 22, 3, 335, 111, 1087, 1, 359, 13, 2, 1, 10, 1, 183, 34, 1338], [72, 23, 10, 11], [877, 39, 7, 305, 310, 13, 841, 4, 2, 121, 3, 2, 963, 772, 4, 6, 71, 772, 4, 2, 35, 236, 30, 27, 655, 1019, 68, 194]]\n"
     ]
    }
   ],
   "source": [
    "print(X_train[:5])"
   ]
  },
  {
   "cell_type": "code",
   "execution_count": 38,
   "metadata": {},
   "outputs": [
    {
     "name": "stdout",
     "output_type": "stream",
     "text": [
      "[[318, 471, 243, 72, 23, 11, 6, 983], [344, 121, 10, 344, 35, 75, 8, 5, 249, 386, 8, 2, 17, 73, 3, 5, 8, 1, 2, 610, 2128, 6, 395, 2, 17, 1145, 39, 7, 178, 104, 67, 17, 73, 247, 23, 10, 1, 44, 68], [123, 753, 22, 11, 28, 747, 992, 970, 9, 26, 29, 104, 48, 11, 2, 25, 20, 104, 48, 11, 2, 101, 25, 31, 7, 1, 374, 3, 2544, 219, 51, 1, 80, 5, 15, 106, 8, 48, 70, 20, 120, 219, 51, 1, 984, 186, 3, 9, 8, 26, 8, 114, 106, 16, 30, 6, 104, 48, 67, 34, 14, 5, 2, 600, 72, 23, 1366, 9, 134, 25, 31, 20, 16, 53, 6], [44, 4, 6], [19, 15, 1878, 10, 627]]\n"
     ]
    }
   ],
   "source": [
    "print(X_test[:5])"
   ]
  },
  {
   "cell_type": "markdown",
   "metadata": {},
   "source": [
    "**X_train과 X_test 모두 성공적으로 변환되었습니다.**"
   ]
  },
  {
   "cell_type": "markdown",
   "metadata": {},
   "source": [
    "* 이제는 label 값을 긍정, 부정 binary 형태로 만들기 위해 7점 이상은 긍정(1), 6점 이하는 부정(0)으로 변환하겠습니다."
   ]
  },
  {
   "cell_type": "code",
   "execution_count": 39,
   "metadata": {},
   "outputs": [],
   "source": [
    "def rating(x):\n",
    "    if x >= 7:\n",
    "        return 1\n",
    "    else:\n",
    "        return 0"
   ]
  },
  {
   "cell_type": "code",
   "execution_count": 40,
   "metadata": {},
   "outputs": [],
   "source": [
    "y_train_binary = y_train.apply(rating)\n",
    "y_test_binary = y_test.apply(rating)"
   ]
  },
  {
   "cell_type": "code",
   "execution_count": 41,
   "metadata": {},
   "outputs": [
    {
     "data": {
      "text/plain": [
       "(201     10\n",
       " 5515    10\n",
       " 7574     1\n",
       " 1467    10\n",
       " 859     10\n",
       "         ..\n",
       " 4621     7\n",
       " 3975    10\n",
       " 1804    10\n",
       " 2324     1\n",
       " 8080     9\n",
       " Name: score, Length: 6566, dtype: int64,\n",
       " 201     1\n",
       " 5515    1\n",
       " 7574    0\n",
       " 1467    1\n",
       " 859     1\n",
       "        ..\n",
       " 4621    1\n",
       " 3975    1\n",
       " 1804    1\n",
       " 2324    0\n",
       " 8080    1\n",
       " Name: score, Length: 6566, dtype: int64)"
      ]
     },
     "execution_count": 41,
     "metadata": {},
     "output_type": "execute_result"
    }
   ],
   "source": [
    "y_train, y_train_binary"
   ]
  },
  {
   "cell_type": "code",
   "execution_count": 42,
   "metadata": {
    "scrolled": false
   },
   "outputs": [
    {
     "data": {
      "text/plain": [
       "(1966    10\n",
       " 8444    10\n",
       " 1157     6\n",
       " 8595     8\n",
       " 1163     8\n",
       "         ..\n",
       " 875      1\n",
       " 4000    10\n",
       " 6542     6\n",
       " 3835    10\n",
       " 642     10\n",
       " Name: score, Length: 1642, dtype: int64,\n",
       " 1966    1\n",
       " 8444    1\n",
       " 1157    0\n",
       " 8595    1\n",
       " 1163    1\n",
       "        ..\n",
       " 875     0\n",
       " 4000    1\n",
       " 6542    0\n",
       " 3835    1\n",
       " 642     1\n",
       " Name: score, Length: 1642, dtype: int64)"
      ]
     },
     "execution_count": 42,
     "metadata": {},
     "output_type": "execute_result"
    }
   ],
   "source": [
    "y_test, y_test_binary"
   ]
  },
  {
   "cell_type": "markdown",
   "metadata": {},
   "source": [
    "**훈련 및 검사 레이블 모두 binary 형태로 변환되었습니다.**"
   ]
  },
  {
   "cell_type": "code",
   "execution_count": 43,
   "metadata": {},
   "outputs": [],
   "source": [
    "# label 을 모델링 과정에 활용하기 위해 배열 형태로 변환하겠습니다.\n",
    "y_train = np.array(y_train_binary)\n",
    "y_test = np.array(y_test_binary)"
   ]
  },
  {
   "cell_type": "code",
   "execution_count": 44,
   "metadata": {},
   "outputs": [
    {
     "name": "stdout",
     "output_type": "stream",
     "text": [
      "37\n"
     ]
    },
    {
     "data": {
      "text/plain": [
       "[110,\n",
       " 428,\n",
       " 453,\n",
       " 590,\n",
       " 657,\n",
       " 754,\n",
       " 786,\n",
       " 936,\n",
       " 1150,\n",
       " 1786,\n",
       " 1795,\n",
       " 1885,\n",
       " 1926,\n",
       " 2306,\n",
       " 2631,\n",
       " 2641,\n",
       " 3261,\n",
       " 3467,\n",
       " 3616,\n",
       " 3923,\n",
       " 4012,\n",
       " 4238,\n",
       " 4364,\n",
       " 4474,\n",
       " 4582,\n",
       " 4642,\n",
       " 4664,\n",
       " 4974,\n",
       " 5001,\n",
       " 5022,\n",
       " 5188,\n",
       " 5192,\n",
       " 5211,\n",
       " 5506,\n",
       " 5555,\n",
       " 5932,\n",
       " 6359]"
      ]
     },
     "execution_count": 44,
     "metadata": {},
     "output_type": "execute_result"
    }
   ],
   "source": [
    "# 훈련 데이터에 빈 값을 찾겠습니다.\n",
    "drop_idx = []\n",
    "for idx, sen in enumerate(X_train):\n",
    "    if len(sen) < 1:\n",
    "        drop_idx.append(idx)\n",
    "        \n",
    "print(len(drop_idx))\n",
    "drop_idx"
   ]
  },
  {
   "cell_type": "markdown",
   "metadata": {},
   "source": [
    "**빈 값의 개수는 37개이며, 인덱스는 위와 같습니다.**"
   ]
  },
  {
   "cell_type": "code",
   "execution_count": 45,
   "metadata": {},
   "outputs": [
    {
     "name": "stdout",
     "output_type": "stream",
     "text": [
      "인덱스 삭제 전 : 6566\n",
      "인덱스 삭제 전 : 6566\n"
     ]
    }
   ],
   "source": [
    "print('인덱스 삭제 전 :', len(X_train))\n",
    "print('인덱스 삭제 전 :', len(y_train))"
   ]
  },
  {
   "cell_type": "code",
   "execution_count": 46,
   "metadata": {},
   "outputs": [
    {
     "name": "stdout",
     "output_type": "stream",
     "text": [
      "인덱스 삭제 후 : 6529\n"
     ]
    }
   ],
   "source": [
    "X_train = np.delete(X_train, drop_idx, axis = 0)\n",
    "print('인덱스 삭제 후 :', len(X_train))"
   ]
  },
  {
   "cell_type": "code",
   "execution_count": 47,
   "metadata": {},
   "outputs": [
    {
     "name": "stdout",
     "output_type": "stream",
     "text": [
      "인덱스 삭제 후 : 6529\n"
     ]
    }
   ],
   "source": [
    "y_train = np.delete(y_train, drop_idx)\n",
    "print('인덱스 삭제 후 :', len(y_train))"
   ]
  },
  {
   "cell_type": "code",
   "execution_count": 48,
   "metadata": {},
   "outputs": [
    {
     "name": "stdout",
     "output_type": "stream",
     "text": [
      "9\n"
     ]
    },
    {
     "data": {
      "text/plain": [
       "[82, 158, 442, 840, 867, 897, 917, 1010, 1371]"
      ]
     },
     "execution_count": 48,
     "metadata": {},
     "output_type": "execute_result"
    }
   ],
   "source": [
    "# 검사 데이터에 빈 값을 찾겠습니다.\n",
    "drop_idx = []\n",
    "for idx, sen in enumerate(X_test):\n",
    "    if len(sen) < 1:\n",
    "        drop_idx.append(idx)\n",
    "        \n",
    "print(len(drop_idx))\n",
    "drop_idx"
   ]
  },
  {
   "cell_type": "code",
   "execution_count": 49,
   "metadata": {},
   "outputs": [
    {
     "name": "stdout",
     "output_type": "stream",
     "text": [
      "인덱스 삭제 전 : 1642\n",
      "인덱스 삭제 전 : 1642\n"
     ]
    }
   ],
   "source": [
    "print('인덱스 삭제 전 :', len(X_test))\n",
    "print('인덱스 삭제 전 :', len(y_test))"
   ]
  },
  {
   "cell_type": "code",
   "execution_count": 50,
   "metadata": {},
   "outputs": [
    {
     "name": "stdout",
     "output_type": "stream",
     "text": [
      "인덱스 삭제 후 : 1633\n"
     ]
    }
   ],
   "source": [
    "X_test = np.delete(X_test, drop_idx, axis = 0)\n",
    "print('인덱스 삭제 후 :', len(X_test))"
   ]
  },
  {
   "cell_type": "code",
   "execution_count": 51,
   "metadata": {},
   "outputs": [
    {
     "name": "stdout",
     "output_type": "stream",
     "text": [
      "인덱스 삭제 후 : 1633\n"
     ]
    }
   ],
   "source": [
    "y_test = np.delete(y_test, drop_idx)\n",
    "print('인덱스 삭제 후 :', len(y_test))"
   ]
  },
  {
   "cell_type": "markdown",
   "metadata": {},
   "source": [
    "## 5.3 패딩"
   ]
  },
  {
   "cell_type": "markdown",
   "metadata": {},
   "source": [
    "* 패딩 작업을 통해 서로 다른 길이의 리스트 길이를 동일하게 맞추겠습니다.\n",
    "\n",
    "\n",
    "* 패딩 작업을 위해 pad_sequences 라이브러리를 활용하겠습니다."
   ]
  },
  {
   "cell_type": "code",
   "execution_count": 52,
   "metadata": {},
   "outputs": [],
   "source": [
    "from tensorflow.keras.preprocessing.sequence import pad_sequences"
   ]
  },
  {
   "cell_type": "code",
   "execution_count": 53,
   "metadata": {
    "scrolled": true
   },
   "outputs": [
    {
     "name": "stdout",
     "output_type": "stream",
     "text": [
      "리뷰의 최대 길이 : 470\n",
      "리뷰의 평균 길이 : 21.43544187471282\n"
     ]
    }
   ],
   "source": [
    "print('리뷰의 최대 길이 :', max(len(length) for length in X_train))\n",
    "print('리뷰의 평균 길이 :', sum(map(len, X_train)) / len(X_train))"
   ]
  },
  {
   "cell_type": "code",
   "execution_count": 54,
   "metadata": {},
   "outputs": [
    {
     "data": {
      "text/plain": [
       "Text(0, 0.5, '샘플 수')"
      ]
     },
     "execution_count": 54,
     "metadata": {},
     "output_type": "execute_result"
    },
    {
     "data": {
      "image/png": "[encoded data removed]",
      "text/plain": [
       "<Figure size 432x288 with 1 Axes>"
      ]
     },
     "metadata": {
      "needs_background": "light"
     },
     "output_type": "display_data"
    }
   ],
   "source": [
    "plt.hist([len(length) for length in X_train], bins = 50)\n",
    "plt.xlabel('길이')\n",
    "plt.ylabel('샘플 수')"
   ]
  },
  {
   "cell_type": "markdown",
   "metadata": {},
   "source": [
    "* 가장 긴 리뷰의 길이는 470이며, 평균 리뷰 길이는 약 21 내외의 길이를 가지는 것을 볼 수 있습니다. \n",
    "\n",
    "\n",
    "* 모델이 처리할 수 있도록 X_train과 X_test의 모든 샘플의 길이를 특정 길이로 동일하게 맞춰줄 필요가 있습니다. 특정 길이 변수를 max_len으로 정합니다."
   ]
  },
  {
   "cell_type": "markdown",
   "metadata": {},
   "source": [
    "대부분의 리뷰가 내용이 잘리지 않도록 할 수 있는 최적의 max_len의 값을 확인하는 함수를 만들겠습니다."
   ]
  },
  {
   "cell_type": "code",
   "execution_count": 55,
   "metadata": {},
   "outputs": [],
   "source": [
    "def below_threshold_len(max_len, nested_list):\n",
    "    count = 0\n",
    "    for i in nested_list:\n",
    "        if len(i) <= max_len:\n",
    "            count += 1\n",
    "    return count / len(nested_list) * 100"
   ]
  },
  {
   "cell_type": "code",
   "execution_count": 56,
   "metadata": {},
   "outputs": [
    {
     "data": {
      "text/plain": [
       "96.29345994792465"
      ]
     },
     "execution_count": 56,
     "metadata": {},
     "output_type": "execute_result"
    }
   ],
   "source": [
    "below_threshold_len(70, X_train)"
   ]
  },
  {
   "cell_type": "markdown",
   "metadata": {},
   "source": [
    "**길이를 70으로 하니 약 96% 리뷰 데이터는 원본 그대로 모델링에 활용할 수 있는 것으로 나타났습니다. 이 결과를 바탕으로 X_train과 X_test의 길이를 70으로 맞추겠습니다.**"
   ]
  },
  {
   "cell_type": "code",
   "execution_count": 57,
   "metadata": {},
   "outputs": [],
   "source": [
    "X_train = pad_sequences(X_train, maxlen = 70)\n",
    "X_test = pad_sequences(X_test, maxlen = 70)"
   ]
  },
  {
   "cell_type": "markdown",
   "metadata": {},
   "source": [
    "# 6. LSTM 기반 감성분석"
   ]
  },
  {
   "cell_type": "code",
   "execution_count": 58,
   "metadata": {},
   "outputs": [],
   "source": [
    "from tensorflow.keras.layers import Embedding, Dense, LSTM\n",
    "from tensorflow.keras.models import Sequential\n",
    "from tensorflow.keras.models import load_model\n",
    "from tensorflow.keras.callbacks import EarlyStopping, ModelCheckpoint"
   ]
  },
  {
   "cell_type": "code",
   "execution_count": 59,
   "metadata": {},
   "outputs": [],
   "source": [
    "model = Sequential()  # Sequential() 함수를 통해 인공신경망 학습에 필요한 층을 구성하겠습니다.\n",
    "model.add(Embedding(vocab_size, 128))  # 단어집합을 위에서 계산한 vocab_size만큼 임베딩하여 100차원의 벡터로 출력하겠습니다.\n",
    "model.add(LSTM(128))  # LSTM 레이어 크기를 128 차원으로 설정하겠습니다.\n",
    "model.add(Dense(1, activation = 'sigmoid')) # 출력은 0과 1 중에 하나이므로 1, activation 함수에는 sigmoid를 입력하겠습니다."
   ]
  },
  {
   "cell_type": "markdown",
   "metadata": {},
   "source": [
    "EarlyStopping 은 훈련 데이터 손실(val_loss)이 증가하면, 과적합 징후므로 검증 데이터 손실이 4회 증가하면 학습을 조기 종료시키는 라이브러리입니다. 또한, ModelCheckpoint를 사용하여 훈련 데이터의 정확도(val_acc)가 이전보다 좋아질 경우에만 모델을 저장합니다."
   ]
  },
  {
   "cell_type": "code",
   "execution_count": 60,
   "metadata": {},
   "outputs": [],
   "source": [
    "es = EarlyStopping(monitor = 'val_loss', mode = 'min', verbose = 1, patience = 4)\n",
    "mc = ModelCheckpoint('best_model.h5', monitor = 'val_acc', mode = 'max', verbose = 1, save_best_only = True)"
   ]
  },
  {
   "cell_type": "markdown",
   "metadata": {},
   "source": [
    "에포크는 총 10번을 수행하겠습니다. 또한 훈련 데이터 중 20%를 검증 데이터로 사용하면서 정확도를 확인합니다."
   ]
  },
  {
   "cell_type": "code",
   "execution_count": 61,
   "metadata": {},
   "outputs": [
    {
     "name": "stdout",
     "output_type": "stream",
     "text": [
      "Epoch 1/20\n",
      "75/75 [==============================] - ETA: 0s - loss: 0.4969 - acc: 0.7856\n",
      "Epoch 00001: val_acc improved from -inf to 0.78254, saving model to best_model.h5\n",
      "75/75 [==============================] - 11s 143ms/step - loss: 0.4969 - acc: 0.7856 - val_loss: 0.4899 - val_acc: 0.7825\n",
      "Epoch 2/20\n",
      "75/75 [==============================] - ETA: 0s - loss: 0.3504 - acc: 0.8464\n",
      "Epoch 00002: val_acc improved from 0.78254 to 0.81317, saving model to best_model.h5\n",
      "75/75 [==============================] - 9s 120ms/step - loss: 0.3504 - acc: 0.8464 - val_loss: 0.4011 - val_acc: 0.8132\n",
      "Epoch 3/20\n",
      "75/75 [==============================] - ETA: 0s - loss: 0.2761 - acc: 0.8888\n",
      "Epoch 00003: val_acc did not improve from 0.81317\n",
      "75/75 [==============================] - 8s 112ms/step - loss: 0.2761 - acc: 0.8888 - val_loss: 0.4224 - val_acc: 0.8032\n",
      "Epoch 4/20\n",
      "75/75 [==============================] - ETA: 0s - loss: 0.2144 - acc: 0.9150\n",
      "Epoch 00004: val_acc improved from 0.81317 to 0.81394, saving model to best_model.h5\n",
      "75/75 [==============================] - 9s 120ms/step - loss: 0.2144 - acc: 0.9150 - val_loss: 0.4866 - val_acc: 0.8139\n",
      "Epoch 5/20\n",
      "75/75 [==============================] - ETA: 0s - loss: 0.1714 - acc: 0.9372\n",
      "Epoch 00005: val_acc did not improve from 0.81394\n",
      "75/75 [==============================] - 9s 124ms/step - loss: 0.1714 - acc: 0.9372 - val_loss: 0.5791 - val_acc: 0.8025\n",
      "Epoch 6/20\n",
      "75/75 [==============================] - ETA: 0s - loss: 0.1395 - acc: 0.9481\n",
      "Epoch 00006: val_acc did not improve from 0.81394\n",
      "75/75 [==============================] - 9s 126ms/step - loss: 0.1395 - acc: 0.9481 - val_loss: 0.5742 - val_acc: 0.8017\n",
      "Epoch 00006: early stopping\n"
     ]
    }
   ],
   "source": [
    "model.compile(optimizer = 'adam', loss = 'binary_crossentropy', metrics = ['acc'])\n",
    "history = model.fit(X_train, y_train, epochs = 20, callbacks = [es, mc], batch_size = 70, validation_split = 0.2)"
   ]
  },
  {
   "cell_type": "markdown",
   "metadata": {},
   "source": [
    "* 조기 종료 조건에 정상적으로 학습이 종료되었습니다. 학습결과, 약 82%의 모델 정확도를 보였습니다. \n",
    "\n",
    "* best_model.h5에 저장된 모델을 바탕으로 검사 데이터의 정확도를 측정하겠습니다."
   ]
  },
  {
   "cell_type": "code",
   "execution_count": 62,
   "metadata": {},
   "outputs": [
    {
     "name": "stdout",
     "output_type": "stream",
     "text": [
      "52/52 [==============================] - 1s 18ms/step - loss: 0.4414 - acc: 0.8175\n",
      "모델 정확도 : 0.82\n"
     ]
    }
   ],
   "source": [
    "loaded_model = load_model('best_model.h5')\n",
    "print(f'모델 정확도 : {loaded_model.evaluate(X_test, y_test)[1]:.2f}')"
   ]
  },
  {
   "cell_type": "markdown",
   "metadata": {},
   "source": [
    "* 검사 데이터를 활용하여 모델을 수행하니 약 82%의 정확도를 나타냈습니다."
   ]
  },
  {
   "cell_type": "markdown",
   "metadata": {},
   "source": [
    "# 7. 리뷰 예측"
   ]
  },
  {
   "cell_type": "markdown",
   "metadata": {},
   "source": [
    "* 리뷰 예측 함수를 만들어 다른 영화의 리뷰 문장으로 감성 분석을 실시하겠습니다."
   ]
  },
  {
   "cell_type": "code",
   "execution_count": 63,
   "metadata": {},
   "outputs": [],
   "source": [
    "def sentiment_predict(new_sentence):\n",
    "    new_sentence = mecab.morphs(new_sentence)\n",
    "    new_sentence = [word for word in new_sentence if word not in stop_words]\n",
    "    encoded = tokenizer.texts_to_sequences([new_sentence])\n",
    "    pad_new = pad_sequences(encoded, maxlen = 70)\n",
    "    score = float(loaded_model.predict(pad_new))\n",
    "    if score > 0.5:\n",
    "        predict = f'{score * 100:.2f}% 확률로 긍정 리뷰입니다.'\n",
    "        \n",
    "    else:\n",
    "        predict = f'{(1 - score) * 100:.2f}% 확률로 부정 리뷰입니다.'\n",
    "      \n",
    "    return predict"
   ]
  },
  {
   "cell_type": "markdown",
   "metadata": {},
   "source": [
    "* 타 애니메이션 리뷰로 해당 감성분석 모델을 수행하겠습니다."
   ]
  },
  {
   "cell_type": "code",
   "execution_count": 64,
   "metadata": {},
   "outputs": [
    {
     "name": "stdout",
     "output_type": "stream",
     "text": [
      "문장 :  '이번 극장판에서는 엉덩이 탐정아버지가 나오는 극장판 재밌을 것 같고 새로운 사건과 추리 이번에도 잘 풀었으면 좋겠습니다 사랑해요'\n",
      "92.48% 확률로 긍정 리뷰입니다.\n",
      "\n",
      "문장 :  '자칭 대가리 깨진 애국자님들은 기기괴괴 어쩌고나 쳐봐라'\n",
      "76.57% 확률로 부정 리뷰입니다.\n",
      "\n",
      "문장 :  '재밌었습니다 다만 괴도 유의 분량이 좀 없는게 아쉬웠습니다'\n",
      "76.18% 확률로 긍정 리뷰입니다.\n",
      "\n",
      "문장 :  '엉덩이 탐정 캐릭터에 반해서 홀린듯이 구매해서 봤습니다!애들 보는 만화일줄 알고 별로 큰 기대는 하지 않았는데 생각보다 스토리도 탄탄하고 옆에서 감초역할을 하는 캐릭터들도 개성이 살아있어서 시간가는 줄 모르고 봤네여집중력 딸리는 제 조카도 한시도 한눈 안팔고 보더라구여 ㅋㅋ '\n",
      "66.29% 확률로 부정 리뷰입니다.\n",
      "\n",
      "문장 :  '아이들이 넘 좋아하는 엉탐!   책보다 더 흥미진진한 이야기들로 가득하겠죠?!'\n",
      "93.90% 확률로 긍정 리뷰입니다.\n",
      "\n",
      "문장 :  '너무 기다렸던 엉덩이탐정! 개봉일 맞춰서 바로 vod로 다운받았습니다! 새로운 사건과 추리가 흥미진진하네요 최고입니다!!'\n",
      "99.89% 확률로 긍정 리뷰입니다.\n",
      "\n",
      "문장 :  '아이랑 손꼽아 기다린 엉덩이탐정^^ 방방뛰고 노래부르고 재밌게 봣어요 또보자고 해서 여러번집에서도 볼꺼같아요'\n",
      "67.36% 확률로 긍정 리뷰입니다.\n",
      "\n",
      "문장 :  '엉덩이 탐정이 두마리나 되니 애들이 두배로 조아해요 ㅋㅋㅋㅋ'\n",
      "99.17% 확률로 긍정 리뷰입니다.\n",
      "\n",
      "문장 :  '엉덩이보단 나은 영화'\n",
      "94.57% 확률로 긍정 리뷰입니다.\n",
      "\n",
      "문장 :  '한국판 비긴어게인이라는 묘사를 듣고\n",
      "61.59% 확률로 긍정 리뷰입니다.\n",
      "\n",
      "문장 :  '가을과 너무 찰떡인 영화. 어디서 그런 친구들을 캐스팅한거죠... 음악도 너무 좋음!'\n",
      "79.79% 확률로 부정 리뷰입니다.\n",
      "\n",
      "문장 :  '음악으로 만난 소중한 인연들과 음악으로 승화하다.'\n",
      "84.31% 확률로 긍정 리뷰입니다.\n",
      "\n",
      "문장 :  '일단 음악 영화답게 OST가 정말 좋아요. 노래 한 곡 한곡이 주옥 같고\n",
      "94.01% 확률로 긍정 리뷰입니다.\n",
      "\n",
      "문장 :  '풋풋하고 귀엽다가\n",
      "75.36% 확률로 긍정 리뷰입니다.\n",
      "\n",
      "문장 :  '너를 이렇게~ 좋아하는건 내 잘못인걸까 ~모르겠다~ '\n",
      "66.64% 확률로 긍정 리뷰입니다.\n",
      "\n",
      "문장 :  '음악하는 청춘들에게만 국한되는 이야기는 아니기에 보는내내 감정이입 되어 마음이 저릿해진다.'\n",
      "97.93% 확률로 긍정 리뷰입니다.\n",
      "\n",
      "문장 :  '이가을에 너무 잘 어울리는 음악영화입니다. 좋은 영화 감사합니다.^^'\n",
      "99.54% 확률로 긍정 리뷰입니다.\n",
      "\n",
      "문장 :  '청춘들의 성장하는 모습이 음악으로 너무 잘 표현 된거 같아요.!'\n",
      "92.98% 확률로 긍정 리뷰입니다.\n",
      "\n"
     ]
    }
   ],
   "source": [
    "reviews = pd.read_csv('review.csv')\n",
    "test = reviews.head(20)\n",
    "\n",
    "for text in test['text']:\n",
    "    if len(text) > 3:\n",
    "        print('문장 :', text)\n",
    "        print(sentiment_predict(text))\n",
    "        print()"
   ]
  },
  {
   "cell_type": "code",
   "execution_count": null,
   "metadata": {},
   "outputs": [],
   "source": []
  }
 ],
 "metadata": {
  "kernelspec": {
   "display_name": "Python 3",
   "language": "python",
   "name": "python3"
  },
  "language_info": {
   "codemirror_mode": {
    "name": "ipython",
    "version": 3
   },
   "file_extension": ".py",
   "mimetype": "text/x-python",
   "name": "python",
   "nbconvert_exporter": "python",
   "pygments_lexer": "ipython3",
   "version": "3.8.3"
  },
  "toc": {
   "base_numbering": 1,
   "nav_menu": {},
   "number_sections": false,
   "sideBar": true,
   "skip_h1_title": false,
   "title_cell": "Contents",
   "title_sidebar": "Contents",
   "toc_cell": true,
   "toc_position": {},
   "toc_section_display": true,
   "toc_window_display": false
  }
 },
 "nbformat": 4,
 "nbformat_minor": 4
}
